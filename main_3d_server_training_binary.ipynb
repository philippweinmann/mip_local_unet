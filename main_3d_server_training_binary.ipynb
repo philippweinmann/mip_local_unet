{
 "cells": [
  {
   "cell_type": "code",
   "execution_count": 10,
   "metadata": {
    "tags": []
   },
   "outputs": [],
   "source": [
    "import copy\n",
    "import torch\n",
    "import torch.nn as nn\n",
    "import numpy as np\n",
    "\n",
    "from data_generation.generate_3d import ImageGenerator\n",
    "from data_generation.generate_utils import get_batch\n",
    "from data_generation.config import original_image_shape, cubic_simple_dims\n",
    "\n",
    "from matplotlib import pyplot as plt\n",
    "from models.net_utils import calculate_jaccard_score, calculate_dice_score\n",
    "from models.net_utils import get_best_device, prepare_image_for_network_input, prepare_image_for_analysis\n",
    "from models.net_visualizations import three_d_visualize_model_progress, display3DImageMaskTuple\n",
    "\n",
    "from models.cnnBinary import CNN_Binary\n",
    "from data.data_utils import pad_image, divide_3d_image_into_patches, get_padded_patches\n",
    "\n",
    "from sklearn.model_selection import train_test_split\n",
    "from server_specific.server_utils import get_patients"
   ]
  },
  {
   "cell_type": "code",
   "execution_count": 11,
   "metadata": {
    "tags": []
   },
   "outputs": [
    {
     "name": "stdout",
     "output_type": "stream",
     "text": [
      "amt of detected_files:  1800\n",
      "amt of patients:  800\n",
      "Train dataset: (700,)\n",
      "Test dataset: (100,)\n"
     ]
    }
   ],
   "source": [
    "patients = get_patients()\n",
    "patients = np.array(patients)\n",
    "\n",
    "train_patients = patients[0:700]\n",
    "test_patients = patients[700:]\n",
    "\n",
    "print(\"Train dataset:\", train_patients.shape)\n",
    "print(\"Test dataset:\", test_patients.shape)\n"
   ]
  },
  {
   "cell_type": "code",
   "execution_count": 12,
   "metadata": {
    "tags": []
   },
   "outputs": [
    {
     "name": "stdout",
     "output_type": "stream",
     "text": [
      "Using cuda device. Every tensor created will be by default on cuda\n"
     ]
    }
   ],
   "source": [
    "# define which device is used for training\n",
    "# todo replace with original image shape\n",
    "default_image_shape = original_image_shape # only works for 3d\n",
    "\n",
    "device = get_best_device()\n",
    "\n",
    "if device == \"mps\":\n",
    "    # mps is not supported for 3d\n",
    "    device = \"cpu\"\n",
    "\n",
    "torch.set_default_device(device)\n",
    "print(f\"Using {device} device. Every tensor created will be by default on {device}\")"
   ]
  },
  {
   "cell_type": "code",
   "execution_count": 13,
   "metadata": {
    "tags": []
   },
   "outputs": [],
   "source": [
    "model = CNN_Binary(in_channels=1)\n",
    "model.to(device);"
   ]
  },
  {
   "cell_type": "code",
   "execution_count": 14,
   "metadata": {
    "tags": []
   },
   "outputs": [
    {
     "name": "stdout",
     "output_type": "stream",
     "text": [
      "----------------TRAINING-------------\n"
     ]
    }
   ],
   "source": [
    "print(\"----------------TRAINING-------------\")\n",
    "\n",
    "def coronary_arteries_in_masks(mask_batch):\n",
    "    present = []\n",
    "    for mask in mask_batch:\n",
    "        coronary_arteries_present = torch.any(mask)\n",
    "\n",
    "        present.append(coronary_arteries_present)\n",
    "    \n",
    "    present = torch.tensor(present, dtype=torch.float32)\n",
    "    present = present[:, None]\n",
    "    \n",
    "    return present"
   ]
  },
  {
   "cell_type": "code",
   "execution_count": 15,
   "metadata": {
    "tags": []
   },
   "outputs": [],
   "source": [
    "padded_shape = (320, 512, 512)\n",
    "patch_size = 64\n",
    "block_shape = (patch_size, patch_size, patch_size)\n",
    "\n",
    "def train_loop(model, loss_fn, optimizer, image, mask):\n",
    "    model.train()\n",
    "    \n",
    "    avg_train_loss = 0\n",
    "\n",
    "    image_patches, mask_patches = get_padded_patches(image, mask, patch_size)\n",
    "\n",
    "    patch_shape = image_patches.shape\n",
    "    amt_of_image_patches = patch_shape[0] * patch_shape[1] * patch_shape[2]\n",
    "    # reconstructed_prediction_mask = np.zeros((padded_shape))\n",
    "    \n",
    "    patch_counter = 0\n",
    "    for i in range(patch_shape[0]):\n",
    "        for j in range(patch_shape[1]):\n",
    "            for k in range(patch_shape[2]):\n",
    "                patch_counter += 1\n",
    "                \n",
    "                current_image_patch = image_patches[i, j, k]\n",
    "                current_mask_patch = mask_patches[i, j, k]\n",
    "\n",
    "                \n",
    "                    \n",
    "                current_image_patch = prepare_image_for_network_input(current_image_patch)\n",
    "                current_mask_patch = prepare_image_for_network_input(current_mask_patch)\n",
    "\n",
    "                optimizer.zero_grad()\n",
    "                \n",
    "                current_prediction = model(current_image_patch)\n",
    "                ground_truth = coronary_arteries_in_masks(current_mask_patch)\n",
    "                \n",
    "                loss = loss_fn(current_prediction, ground_truth)\n",
    "\n",
    "                loss.backward()\n",
    "                optimizer.step()\n",
    "\n",
    "                train_loss = loss.item()\n",
    "                avg_train_loss += train_loss\n",
    "\n",
    "                print(f\"Patch number: {patch_counter} / {amt_of_image_patches}, Train loss: {train_loss:>8f}\", end=\"\\r\")\n",
    "    \n",
    "    avg_train_loss /= amt_of_image_patches\n",
    "\n",
    "    print(f\"For this patient: average train loss: {avg_train_loss:>8f}\\n\")\n",
    "    \n",
    "    return avg_train_loss"
   ]
  },
  {
   "cell_type": "code",
   "execution_count": 16,
   "metadata": {
    "tags": []
   },
   "outputs": [],
   "source": [
    "def test_loop(model, loss_fn, image, mask):\n",
    "    model.eval()\n",
    "\n",
    "    test_loss = 0\n",
    "    false_positives = 0\n",
    "    false_negatives = 0\n",
    "    correct = 0\n",
    "\n",
    "    image_patches, mask_patches = get_padded_patches(image, mask, patch_size)\n",
    "\n",
    "    patch_shape = image_patches.shape\n",
    "    amt_of_image_patches = patch_shape[0] * patch_shape[1] * patch_shape[2]\n",
    "    \n",
    "    patch_counter = 0\n",
    "    for i in range(patch_shape[0]):\n",
    "        for j in range(patch_shape[1]):\n",
    "            for k in range(patch_shape[2]):\n",
    "                patch_counter += 1\n",
    "                current_image_patch = image_patches[i, j, k]\n",
    "                current_mask_patch = mask_patches[i, j, k]\n",
    "                    \n",
    "                current_image_patch = prepare_image_for_network_input(current_image_patch)\n",
    "                current_mask_patch = prepare_image_for_network_input(current_mask_patch)\n",
    "\n",
    "                with torch.no_grad():\n",
    "                    current_prediction = model(current_image_patch)\n",
    "                    ground_truth = coronary_arteries_in_masks(current_mask_patch)\n",
    "\n",
    "                    patch_loss = loss_fn(current_prediction, ground_truth).item()\n",
    "                    test_loss += patch_loss\n",
    "\n",
    "    test_loss /= amt_of_image_patches\n",
    "\n",
    "    print(f\"Patch number: {patch_counter} / {amt_of_image_patches}, average test loss: {test_loss:>8f} | false positives: {false_positives}, false negatives: {false_negatives}\\n\", end=\"\\r\")\n",
    "\n",
    "    # returning for patience\n",
    "    return test_loss"
   ]
  },
  {
   "cell_type": "code",
   "execution_count": 17,
   "metadata": {
    "tags": []
   },
   "outputs": [],
   "source": [
    "# resetting the model\n",
    "model = CNN_Binary(in_channels=1)\n",
    "model.to(device)\n",
    "\n",
    "# running it\n",
    "# param initialization for patience\n",
    "best_loss = float('inf')  \n",
    "best_model_weights = None  \n",
    "patience_base_value = 8\n",
    "patience = patience_base_value\n",
    "\n",
    "loss_fn = nn.BCELoss()\n",
    "optimizer = torch.optim.SGD(model.parameters(), lr=0.1)\n",
    "epochs = 2"
   ]
  },
  {
   "cell_type": "code",
   "execution_count": null,
   "metadata": {
    "tags": []
   },
   "outputs": [
    {
     "name": "stdout",
     "output_type": "stream",
     "text": [
      "Epoch 1\n",
      "-------------------------------\n",
      "tuple of 7 train patients, 1 test patient\n",
      "processing tuple 0 from 100 tuples\n",
      "current train patient: 1 / 7\n"
     ]
    }
   ],
   "source": [
    "try:\n",
    "    for t in range(epochs):\n",
    "        print(f\"Epoch {t+1}\\n-------------------------------\")\n",
    "        print(\"tuple of 7 train patients, 1 test patient\")\n",
    "        for i in range(100):\n",
    "            print(f\"processing tuple {i} from 100 tuples\")\n",
    "            \n",
    "            current_train_patients = train_patients[i*7:(i+1)*7]\n",
    "            current_test_patients = test_patients[i]\n",
    "            \n",
    "            average_train_losses = []\n",
    "            average_test_losses = []\n",
    "            \n",
    "            for current_train_idx, current_train_patient in enumerate(current_train_patients):\n",
    "                print(f\"current train patient: {current_train_idx + 1} / 7\")\n",
    "                current_train_image, current_train_mask = current_train_patient.get_image_mask_tuple()\n",
    "                current_average_train_loss = train_loop(model, loss_fn, optimizer, current_train_image, current_train_mask)\n",
    "                average_train_losses.append(current_average_train_loss)\n",
    "            # testing for each epoch to track the models performance during training.\n",
    "            \n",
    "            current_test_image, current_test_mask = current_train_patient.get_image_mask_tuple()\n",
    "            test_loss = test_loop(model, loss_fn, current_test_image, current_test_mask)\n",
    "            average_test_losses.append(test_loss)\n",
    "\n",
    "            if test_loss < best_loss:\n",
    "                best_loss = test_loss\n",
    "                best_model_weights = copy.deepcopy(model.state_dict())\n",
    "                patience = patience_base_value\n",
    "            else:\n",
    "                patience -= 1\n",
    "                if patience <= 0:\n",
    "                    break\n",
    "            print(\"patience: \", patience)\n",
    "    print(\"Done!\")\n",
    "except KeyboardInterrupt:\n",
    "    print(\"training interrupted by the user\")\n",
    "    model.eval()"
   ]
  },
  {
   "cell_type": "code",
   "execution_count": 10,
   "metadata": {},
   "outputs": [
    {
     "name": "stdout",
     "output_type": "stream",
     "text": [
      "------INFERENCE--------\n"
     ]
    },
    {
     "data": {
      "text/plain": [
       "'\\nfor i in range(10):\\n    mask, pred = default_model_progress_visualization_function(model, get_image_fct=image_generator.get_3DImage)\\n    print(\"jaccard score for above image: \", calculate_jaccard_score(mask, pred))\\n'"
      ]
     },
     "execution_count": 10,
     "metadata": {},
     "output_type": "execute_result"
    }
   ],
   "source": [
    "print(\"------INFERENCE--------\")\n",
    "\n",
    "'''\n",
    "for i in range(10):\n",
    "    mask, pred = default_model_progress_visualization_function(model, get_image_fct=image_generator.get_3DImage)\n",
    "    print(\"jaccard score for above image: \", calculate_jaccard_score(mask, pred))\n",
    "'''"
   ]
  },
  {
   "cell_type": "code",
   "execution_count": 11,
   "metadata": {},
   "outputs": [],
   "source": [
    "# torch.save(model.state_dict(), 'model_weights.pth')\n",
    "\n",
    "for patient in test_patients:\n",
    "    \n"
   ]
  }
 ],
 "metadata": {
  "kernelspec": {
   "display_name": "Exploration Tutorial",
   "language": "python",
   "name": "exploration-tutorial"
  },
  "language_info": {
   "codemirror_mode": {
    "name": "ipython",
    "version": 3
   },
   "file_extension": ".py",
   "mimetype": "text/x-python",
   "name": "python",
   "nbconvert_exporter": "python",
   "pygments_lexer": "ipython3",
   "version": "3.10.12"
  }
 },
 "nbformat": 4,
 "nbformat_minor": 4
}

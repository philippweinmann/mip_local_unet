{
 "cells": [
  {
   "cell_type": "code",
   "execution_count": 1,
   "id": "709abd27-49ff-4449-b58e-da5585a81010",
   "metadata": {
    "tags": []
   },
   "outputs": [],
   "source": [
    "import torch\n",
    "from data.data_utils import get_preprocessed_patches, get_all_patches_with_certain_idx\n",
    "import training_configuration\n",
    "from training_utils import get_train_test_val_patches, get_val_test_indexes, test_or_validate_model\n",
    "from models.net_utils import get_best_device\n",
    "from models.unet3D import UNet3D"
   ]
  },
  {
   "cell_type": "code",
   "execution_count": 2,
   "id": "92f03f8a-b717-4b72-a726-e33f40ab54a8",
   "metadata": {
    "tags": []
   },
   "outputs": [],
   "source": [
    "# trained_model_path = \"saved_models/3d_model20241209-211318.pth\" # average dice score of 0.76\n",
    "\n",
    "trained_model_path = \"saved_models/3d_model20241216-101621.pth\" # average dice score of 0.78\n",
    "block_size = 128"
   ]
  },
  {
   "cell_type": "code",
   "execution_count": 3,
   "id": "4827f2a8-0c59-4b21-9f89-b966ad49778e",
   "metadata": {
    "tags": []
   },
   "outputs": [
    {
     "name": "stdout",
     "output_type": "stream",
     "text": [
      "Using cuda device. Every tensor created will be by default on cuda\n"
     ]
    }
   ],
   "source": [
    "device = get_best_device()\n",
    "\n",
    "torch.set_default_device(device)\n",
    "print(f\"Using {device} device. Every tensor created will be by default on {device}\")\n",
    "\n",
    "model = UNet3D(in_channels=1, num_classes=1)\n",
    "\n",
    "model.load_state_dict(torch.load(trained_model_path, weights_only=True))\n",
    "model.to(device)\n",
    "model.eval();"
   ]
  },
  {
   "cell_type": "markdown",
   "id": "1ddb3fe3",
   "metadata": {},
   "source": [
    "# INFERENCE"
   ]
  },
  {
   "cell_type": "code",
   "execution_count": 4,
   "id": "7c536676-8e95-4fbc-88d8-03fc862997e7",
   "metadata": {
    "tags": []
   },
   "outputs": [
    {
     "name": "stdout",
     "output_type": "stream",
     "text": [
      "amt of detected patch files:  22667\n",
      "amt of detected patch files:  22667\n",
      "patients for- training: 740, validation: 20, testing: 40\n",
      "training patches: 20955, validation patches: 591, test patches: 1121\n"
     ]
    }
   ],
   "source": [
    "# it would be better to do this with an inference pipeline\n",
    "\n",
    "preprocessed_patches = get_preprocessed_patches(patches_folder = training_configuration.PATCHES_FOLDER)\n",
    "val_idxs, test_idxs = get_val_test_indexes()\n",
    "id_idx_patches_list = get_all_patches_with_certain_idx(test_idxs, preprocessed_patches)\n",
    "_, val_idxs_patches, test_idxs_patches = get_train_test_val_patches(patches_folder = training_configuration.PATCHES_FOLDER)"
   ]
  },
  {
   "cell_type": "code",
   "execution_count": null,
   "id": "f78e6485-c107-403c-95a7-6ca0a041366b",
   "metadata": {
    "tags": []
   },
   "outputs": [],
   "source": [
    "'''\n",
    "import optuna\n",
    "\n",
    "def objective(trial):\n",
    "    threshold_sug = trial.suggest_float('threshold', 0.0, 0.5)\n",
    "    avg_overlap_scores, avg_dice_scores, avg_dice_scores_b_pp = test_or_validate_model(val_idxs_patches, model, threshold = threshold_sug, visualize=False)\n",
    "\n",
    "    return avg_dice_scores\n",
    "\n",
    "study = optuna.create_study(direction='maximize', sampler=optuna.samplers.TPESampler())\n",
    "\n",
    "# jobs = -1 to use all cores\n",
    "study.optimize(objective, n_trials=100, n_jobs=2, show_progress_bar=False)\n",
    "\n",
    "print(\"best dice value: \", study.best_value)\n",
    "print(\"best threshold: \", study.best_params)\n",
    "'''"
   ]
  },
  {
   "cell_type": "code",
   "execution_count": null,
   "id": "8629efdb-c1d5-43d8-a181-b9885b245805",
   "metadata": {},
   "outputs": [],
   "source": [
    "threshold = 0.204305 # best thresold, but it barely makes a difference.\n",
    "avg_overlap_scores, avg_dice_scores, avg_dice_scores_b_pp = test_or_validate_model(test_idxs_patches, model, threshold = threshold, visualize=True)"
   ]
  },
  {
   "cell_type": "markdown",
   "id": "2b2b318e",
   "metadata": {},
   "source": [
    "## Final values on the test set:"
   ]
  },
  {
   "cell_type": "code",
   "execution_count": null,
   "id": "bdf2a215-563d-4753-be15-f77969e8bc8b",
   "metadata": {
    "tags": []
   },
   "outputs": [],
   "source": [
    "print(f\"dice scores on the test set before pp: {avg_dice_scores_b_pp}\")\n",
    "print(f\"dice scores on the test set after pp: {avg_dice_scores}\")\n",
    "print(f\"overlap scores before pp: {avg_overlap_scores}\")"
   ]
  }
 ],
 "metadata": {
  "kernelspec": {
   "display_name": "Exploration Tutorial",
   "language": "python",
   "name": "exploration-tutorial"
  },
  "language_info": {
   "codemirror_mode": {
    "name": "ipython",
    "version": 3
   },
   "file_extension": ".py",
   "mimetype": "text/x-python",
   "name": "python",
   "nbconvert_exporter": "python",
   "pygments_lexer": "ipython3",
   "version": "3.10.12"
  }
 },
 "nbformat": 4,
 "nbformat_minor": 5
}

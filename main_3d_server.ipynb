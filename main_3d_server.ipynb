{
 "cells": [
  {
   "cell_type": "code",
   "execution_count": 1,
   "metadata": {},
   "outputs": [],
   "source": [
    "import copy\n",
    "import torch\n",
    "import numpy as np\n",
    "\n",
    "from data_generation.generate_3d import ImageGenerator\n",
    "from data_generation.generate_utils import get_batch\n",
    "from data_generation.config import original_image_shape, cubic_simple_dims\n",
    "\n",
    "from matplotlib import pyplot as plt\n",
    "from models.net_utils import calculate_jaccard_score, calculate_dice_score\n",
    "from models.net_utils import get_best_device, prepare_image_for_network_input, prepare_image_for_analysis\n",
    "from models.net_visualizations import three_d_visualize_model_progress, display3DImageMaskTuple\n",
    "\n",
    "from models.unet3D import UNet3D, dice_bce_loss\n",
    "from data.data_utils import pad_image, divide_3d_image_into_patches, get_padded_patches"
   ]
  },
  {
   "cell_type": "code",
   "execution_count": 2,
   "metadata": {},
   "outputs": [
    {
     "name": "stdout",
     "output_type": "stream",
     "text": [
      "Using cpu device. Every tensor created will be by default on cpu\n"
     ]
    }
   ],
   "source": [
    "# define which device is used for training\n",
    "# todo replace with original image shape\n",
    "default_image_shape = original_image_shape # only works for 3d\n",
    "\n",
    "device = get_best_device()\n",
    "\n",
    "if device == \"mps\":\n",
    "    # mps is not supported for 3d\n",
    "    device = \"cpu\"\n",
    "\n",
    "torch.set_default_device(device)\n",
    "print(f\"Using {device} device. Every tensor created will be by default on {device}\")"
   ]
  },
  {
   "cell_type": "code",
   "execution_count": 3,
   "metadata": {},
   "outputs": [
    {
     "name": "stdout",
     "output_type": "stream",
     "text": [
      "setting default functions for three dimensions\n"
     ]
    }
   ],
   "source": [
    "print(\"setting default functions for three dimensions\")\n",
    "image_generator = ImageGenerator(default_image_shape)\n",
    "\n",
    "default_image_mask_visulization_function = display3DImageMaskTuple\n",
    "default_model_progress_visualization_function = three_d_visualize_model_progress\n",
    "\n",
    "model = UNet3D(in_channels=1, num_classes=1)\n",
    "model.to(device);"
   ]
  },
  {
   "cell_type": "code",
   "execution_count": 4,
   "metadata": {},
   "outputs": [
    {
     "name": "stdout",
     "output_type": "stream",
     "text": [
      "image_shape:  (275, 512, 512)\n"
     ]
    }
   ],
   "source": [
    "image, mask = image_generator.get_3DImage()\n",
    "print(\"image_shape: \", image.shape)"
   ]
  },
  {
   "cell_type": "code",
   "execution_count": 5,
   "metadata": {},
   "outputs": [
    {
     "name": "stdout",
     "output_type": "stream",
     "text": [
      "----------------TRAINING-------------\n"
     ]
    }
   ],
   "source": [
    "print(\"----------------TRAINING-------------\")\n",
    "\n",
    "additional_score_tuples = [(\"jaccard score\", calculate_jaccard_score), (\"dice score\", calculate_dice_score)] # (\"hausdorff distance\", calculate_hausdorff_distance)\n",
    "\n",
    "padded_shape = (320, 512, 512)\n",
    "patch_size = 64\n",
    "block_shape = (patch_size, patch_size, patch_size)\n",
    "\n",
    "def train_loop(model, loss_fn, optimizer):\n",
    "    model.train()\n",
    "\n",
    "    image, mask = image_generator.get_3DImage()\n",
    "\n",
    "    image_patches, mask_patches = get_padded_patches(image, mask, patch_size)\n",
    "\n",
    "    patch_shape = image_patches.shape\n",
    "    amt_of_image_patches = patch_shape[0] * patch_shape[1] * patch_shape[2]\n",
    "    # reconstructed_prediction_mask = np.zeros((padded_shape))\n",
    "    \n",
    "    patch_counter = 0\n",
    "    for i in range(patch_shape[0]):\n",
    "        for j in range(patch_shape[1]):\n",
    "            for k in range(patch_shape[2]):\n",
    "                patch_counter += 1\n",
    "                current_image_patch = image_patches[i, j, k]\n",
    "                current_mask_patch = mask_patches[i, j, k]\n",
    "\n",
    "                current_image_patch = prepare_image_for_network_input(current_image_patch)\n",
    "                current_mask_patch = prepare_image_for_network_input(current_mask_patch)\n",
    "\n",
    "\n",
    "                optimizer.zero_grad()\n",
    "\n",
    "                current_prediction_patch = model(current_image_patch)\n",
    "                loss = loss_fn(current_prediction_patch, current_mask_patch)\n",
    "                \n",
    "                additional_metrics = []\n",
    "                \n",
    "                for name, additional_score_function in additional_score_tuples:\n",
    "                    score = additional_score_function(current_mask_patch, current_image_patch)\n",
    "                    additional_metrics.append((name, score))\n",
    "\n",
    "                loss.backward()\n",
    "                optimizer.step()\n",
    "\n",
    "                train_loss = loss.item()\n",
    "\n",
    "                train_log = f\"Patch number: {patch_counter} / {amt_of_image_patches}, Train loss: {train_loss:>8f}\"\n",
    "                for name, score in additional_metrics:\n",
    "                    train_log = train_log + f\" | {name}: {score}\"\n",
    "\n",
    "                print(train_log, end=\"\\r\")\n",
    "\n",
    "                # only useful for testing?\n",
    "                '''current_prediction_patch = prepare_image_for_analysis(current_prediction_patch)\n",
    "                reconstructed_prediction_mask[\n",
    "                    i * block_shape[0]:(i + 1) * block_shape[0],\n",
    "                    j * block_shape[1]:(j + 1) * block_shape[1],\n",
    "                    k * block_shape[2]:(k + 1) * block_shape[2]\n",
    "                ] = current_prediction_patch'''"
   ]
  },
  {
   "cell_type": "code",
   "execution_count": 6,
   "metadata": {},
   "outputs": [],
   "source": [
    "def test_loop(model, loss_fn):\n",
    "    model.eval()\n",
    "\n",
    "    test_loss = 0\n",
    "    jaccard_score = 0\n",
    "    dice_score = 0\n",
    "\n",
    "    image, mask = image_generator.get_3DImage()\n",
    "    image_patches, mask_patches = get_padded_patches(image, mask, patch_size)\n",
    "\n",
    "    patch_shape = image_patches.shape\n",
    "    amt_of_image_patches = patch_shape[0] * patch_shape[1] * patch_shape[2]\n",
    "    # reconstructed_prediction_mask = np.zeros((padded_shape))\n",
    "    \n",
    "    patch_counter = 0\n",
    "    for i in range(patch_shape[0]):\n",
    "        for j in range(patch_shape[1]):\n",
    "            for k in range(patch_shape[2]):\n",
    "                patch_counter += 1\n",
    "                current_image_patch = image_patches[i, j, k]\n",
    "                current_mask_patch = mask_patches[i, j, k]\n",
    "\n",
    "                current_image_patch = prepare_image_for_network_input(current_image_patch)\n",
    "                current_mask_patch = prepare_image_for_network_input(current_mask_patch)\n",
    "\n",
    "                with torch.no_grad():\n",
    "                    current_prediction_patch = model(current_image_patch)\n",
    "                    patch_loss = loss_fn(current_prediction_patch, current_mask_patch).item()\n",
    "                    test_loss += patch_loss\n",
    "\n",
    "                    patch_jaccard_score = calculate_jaccard_score(current_mask_patch, current_prediction_patch)\n",
    "                    patch_dice_score = calculate_dice_score(current_mask_patch, current_prediction_patch)\n",
    "\n",
    "                    jaccard_score += patch_jaccard_score\n",
    "                    dice_score += patch_dice_score\n",
    "\n",
    "                    print(f\"Patch number: {patch_counter} / {amt_of_image_patches}, Test loss: {patch_loss:>8f}  | Jaccard Score: {patch_jaccard_score:>8f} | Dice Score: {patch_dice_score:>8f}\\n\", end=\"\\r\")\n",
    "\n",
    "    test_loss /= amt_of_image_patches\n",
    "    jaccard_score /= amt_of_image_patches\n",
    "    dice_score /= amt_of_image_patches\n",
    "\n",
    "    print(f\"Patch number: {patch_counter} / {amt_of_image_patches}, average test loss: {test_loss:>8f}  | average Jaccard Score: {jaccard_score:>8f} | average Dice Score: {dice_score:>8f}\\n\", end=\"\\r\")\n",
    "\n",
    "    # default_model_progress_visualization_function(model, image_generator.get_3DImage)\n",
    "    \n",
    "    # to make sure that the plot gets displayed during training\n",
    "    # plt.pause(0.001)\n",
    "\n",
    "    # returning for patience\n",
    "    return test_loss"
   ]
  },
  {
   "cell_type": "code",
   "execution_count": null,
   "metadata": {},
   "outputs": [],
   "source": [
    "# resetting the model\n",
    "model = UNet3D(in_channels=1, num_classes=1)\n",
    "model.to(device)\n",
    "\n",
    "# print(\"model prediction at initialization: \")\n",
    "# default_model_progress_visualization_function(model, image_generator.get_3DImage)\n",
    "\n",
    "# running it\n",
    "# param initialization for patience\n",
    "best_loss = float('inf')  \n",
    "best_model_weights = None  \n",
    "patience_base_value = 3\n",
    "patience = patience_base_value\n",
    "\n",
    "# loss_fn = nn.BCELoss()\n",
    "loss_fn = dice_bce_loss\n",
    "optimizer = torch.optim.SGD(model.parameters(), lr=0.1)\n",
    "epochs = 2"
   ]
  },
  {
   "cell_type": "code",
   "execution_count": null,
   "metadata": {},
   "outputs": [],
   "source": [
    "try:\n",
    "    for t in range(epochs):\n",
    "        print(f\"Epoch {t+1}\\n-------------------------------\")\n",
    "        train_loop(model, loss_fn, optimizer)\n",
    "        # testing for each epoch to track the models performance during training.\n",
    "        \n",
    "        test_loss = test_loop(model, loss_fn)\n",
    "\n",
    "        if test_loss < best_loss:\n",
    "            best_loss = test_loss\n",
    "            best_model_weights = copy.deepcopy(model.state_dict())\n",
    "            patience = patience_base_value\n",
    "        else:\n",
    "            patience -= 1\n",
    "            if patience == 0:\n",
    "                break\n",
    "        print(\"patience: \", patience)\n",
    "    print(\"Done!\")\n",
    "except KeyboardInterrupt:\n",
    "    print(\"training interrupted by the user\")\n",
    "    model.eval()"
   ]
  },
  {
   "cell_type": "code",
   "execution_count": null,
   "metadata": {},
   "outputs": [],
   "source": [
    "print(\"------INFERENCE--------\")\n",
    "\n",
    "'''\n",
    "for i in range(10):\n",
    "    mask, pred = default_model_progress_visualization_function(model, get_image_fct=image_generator.get_3DImage)\n",
    "    print(\"jaccard score for above image: \", calculate_jaccard_score(mask, pred))\n",
    "'''"
   ]
  }
 ],
 "metadata": {
  "kernelspec": {
   "display_name": "Python 3",
   "language": "python",
   "name": "python3"
  },
  "language_info": {
   "codemirror_mode": {
    "name": "ipython",
    "version": 3
   },
   "file_extension": ".py",
   "mimetype": "text/x-python",
   "name": "python",
   "nbconvert_exporter": "python",
   "pygments_lexer": "ipython3",
   "version": "3.11.9"
  }
 },
 "nbformat": 4,
 "nbformat_minor": 2
}

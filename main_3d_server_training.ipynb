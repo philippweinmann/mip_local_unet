{
 "cells": [
  {
   "cell_type": "code",
   "execution_count": 13,
   "metadata": {
    "tags": []
   },
   "outputs": [],
   "source": [
    "import copy\n",
    "import torch\n",
    "import torch.nn as nn\n",
    "import numpy as np\n",
    "import random\n",
    "\n",
    "from pathlib import Path\n",
    "import training_configuration\n",
    "from data_generation.generate_3d import ImageGenerator\n",
    "from data_generation.generate_utils import get_batch\n",
    "from data_generation.config import original_image_shape, cubic_simple_dims\n",
    "\n",
    "from models.net_utils import calculate_jaccard_score, calculate_dice_scores, save_model\n",
    "from models.net_utils import get_best_device, prepare_image_for_network_input, prepare_image_for_analysis\n",
    "from models.net_visualizations import three_d_visualize_model_progress, display3DImageMaskTuple\n",
    "\n",
    "from models.unet3D import UNet3D, dice_bce_loss\n",
    "from data.data_utils import pad_image, divide_3d_image_into_patches, get_padded_patches\n",
    "\n",
    "from sklearn.model_selection import train_test_split\n",
    "from server_specific.server_utils import get_patients"
   ]
  },
  {
   "cell_type": "code",
   "execution_count": 14,
   "metadata": {
    "tags": []
   },
   "outputs": [],
   "source": [
    "patches_folder = Path(\"/home/tu-philw/group/gecko/pweinmann/mip_local_unet/preprocessed_patches/\")\n",
    "def get_preprocessed_patches():\n",
    "    patch_fps = list(patches_folder.iterdir())\n",
    "\n",
    "    patch_fps = [file for file in patch_fps if \"ipynb_checkpoints\" not in str(file)]\n",
    "\n",
    "    print(\"amt of detected patch files: \", len(patch_fps))\n",
    "    random.shuffle(patch_fps)\n",
    "    \n",
    "    return patch_fps\n",
    "\n",
    "def get_image_mask_from_patch_fp(patch_fp):\n",
    "    patch = np.load(patch_fp)\n",
    "    image = patch[\"image\"]\n",
    "    mask = patch[\"mask\"]\n",
    "\n",
    "    return image, mask"
   ]
  },
  {
   "cell_type": "code",
   "execution_count": 15,
   "metadata": {
    "tags": []
   },
   "outputs": [
    {
     "name": "stdout",
     "output_type": "stream",
     "text": [
      "amt of detected patch files:  22667\n"
     ]
    }
   ],
   "source": [
    "preprocessed_patches = get_preprocessed_patches()"
   ]
  },
  {
   "cell_type": "code",
   "execution_count": null,
   "metadata": {
    "tags": []
   },
   "outputs": [
    {
     "name": "stdout",
     "output_type": "stream",
     "text": [
      "patch 712/22667\r"
     ]
    }
   ],
   "source": [
    "means = []\n",
    "\n",
    "amt_patches = len(preprocessed_patches)\n",
    "for p_idx, preprocessed_patch in enumerate(preprocessed_patches):\n",
    "    print(f\"patch {p_idx}/{amt_patches}\", end=\"\\r\")\n",
    "    image_patch, _ = get_image_mask_from_patch_fp(preprocessed_patch)\n",
    "    means.append(image_patch.mean())"
   ]
  },
  {
   "cell_type": "code",
   "execution_count": null,
   "metadata": {
    "tags": []
   },
   "outputs": [],
   "source": [
    "plt.hist(means, bins=10)\n",
    "plt.xlabel(\"bin means\")\n",
    "plt.ylabel(\"amount of elements in bin\")\n",
    "plt.show()"
   ]
  },
  {
   "cell_type": "code",
   "execution_count": null,
   "metadata": {
    "tags": []
   },
   "outputs": [],
   "source": [
    "mean_of_means = means.mean()\n",
    "print(mean_of_means)"
   ]
  },
  {
   "cell_type": "code",
   "execution_count": 4,
   "metadata": {
    "tags": []
   },
   "outputs": [
    {
     "name": "stdout",
     "output_type": "stream",
     "text": [
      "Using cuda device. Every tensor created will be by default on cuda\n"
     ]
    }
   ],
   "source": [
    "# define which device is used for training\n",
    "device = get_best_device()\n",
    "\n",
    "if device == \"mps\":\n",
    "    # mps is not supported for 3d\n",
    "    device = \"cpu\"\n",
    "\n",
    "torch.set_default_device(device)\n",
    "print(f\"Using {device} device. Every tensor created will be by default on {device}\")"
   ]
  },
  {
   "cell_type": "code",
   "execution_count": 8,
   "metadata": {
    "tags": []
   },
   "outputs": [
    {
     "name": "stdout",
     "output_type": "stream",
     "text": [
      "----------------TRAINING-------------\n"
     ]
    }
   ],
   "source": [
    "print(\"----------------TRAINING-------------\")\n",
    "\n",
    "patch_size = training_configuration.PATCH_SIZE\n",
    "block_shape = (patch_size, patch_size, patch_size)\n",
    "dice_thresholds = np.array([0.1, 0.25, 0.4, 0.5])\n",
    "\n",
    "def train_loop(model, loss_fn, optimizer, scheduler, patch_fps):\n",
    "    model.train()\n",
    "    \n",
    "    avg_train_loss = 0\n",
    "    avg_dice_scores = np.zeros(dice_thresholds.shape)\n",
    "    \n",
    "    processed_patch_counter = 0\n",
    "    \n",
    "    amt_of_patches = len(patch_fps)\n",
    "    for patch_number, patch_fp in enumerate(patch_fps):\n",
    "        print(f\"{patch_number} / {amt_of_patches}\", end=\"\\r\")\n",
    "        image_patch, mask_patch = get_image_mask_from_patch_fp(patch_fp)\n",
    "        \n",
    "        non_zero_count = np.count_nonzero(mask_patch)\n",
    "        if non_zero_count < 10000:\n",
    "            continue\n",
    "        \n",
    "        image_patch = prepare_image_for_network_input(image_patch)\n",
    "        mask_patch = prepare_image_for_network_input(mask_patch)\n",
    "\n",
    "        optimizer.zero_grad()\n",
    "\n",
    "        patch_pred = model(image_patch)\n",
    "        loss = loss_fn(patch_pred, mask_patch)\n",
    "\n",
    "        loss.backward()\n",
    "        optimizer.step()\n",
    "\n",
    "        train_loss = loss.item()\n",
    "        avg_train_loss += train_loss\n",
    "\n",
    "        # list of tuples with threshold, score\n",
    "        avg_dice_scores += calculate_dice_scores(mask_patch, patch_pred, thresholds=dice_thresholds)\n",
    "        \n",
    "        processed_patch_counter += 1\n",
    "        if (processed_patch_counter) % 20 == 0:\n",
    "            avg_train_loss /= 20\n",
    "            avg_dice_scores /= 20\n",
    "            \n",
    "            scheduler.step(avg_train_loss)\n",
    "            formatted_scores = ', '.join([f'({t:.2f}, {s:.6f})' for t, s in zip(dice_thresholds, avg_dice_scores)])\n",
    "            train_log = f\"Patch number: {patch_number} / {amt_of_patches}, Train loss: {avg_train_loss:>8f}, Dice Scores: {formatted_scores}\"\n",
    "            print(train_log)\n",
    "            \n",
    "            avg_train_loss = 0\n",
    "            avg_dice_scores.fill(0)"
   ]
  },
  {
   "cell_type": "code",
   "execution_count": 9,
   "metadata": {
    "tags": []
   },
   "outputs": [],
   "source": [
    "# resetting the model\n",
    "model = UNet3D(in_channels=1, num_classes=1)\n",
    "model.to(device)\n",
    "\n",
    "# running it\n",
    "loss_fn = dice_bce_loss\n",
    "optimizer = torch.optim.SGD(model.parameters(), lr=0.1)\n",
    "\n",
    "scheduler = torch.optim.lr_scheduler.ReduceLROnPlateau(optimizer, 'min', factor=0.1, patience=6)\n",
    "epochs = 2"
   ]
  },
  {
   "cell_type": "code",
   "execution_count": 10,
   "metadata": {
    "tags": []
   },
   "outputs": [
    {
     "name": "stdout",
     "output_type": "stream",
     "text": [
      "Patch number: 341 / 22667, Train loss: 0.305021, Dice Scores: (0.10, 0.729422), (0.25, 0.729114), (0.40, 0.728553), (0.50, 0.727898)\n",
      "Patch number: 530 / 22667, Train loss: 0.310938, Dice Scores: (0.10, 0.723755), (0.25, 0.722857), (0.40, 0.722115), (0.50, 0.721419)\n",
      "Patch number: 842 / 22667, Train loss: 0.366079, Dice Scores: (0.10, 0.671942), (0.25, 0.670363), (0.40, 0.668125), (0.50, 0.665965)\n",
      "Patch number: 1141 / 22667, Train loss: 0.321844, Dice Scores: (0.10, 0.714178), (0.25, 0.713467), (0.40, 0.712080), (0.50, 0.710153)\n",
      "Patch number: 1449 / 22667, Train loss: 0.253448, Dice Scores: (0.10, 0.779204), (0.25, 0.779638), (0.40, 0.778945), (0.50, 0.778316)\n",
      "Patch number: 1829 / 22667, Train loss: 0.246181, Dice Scores: (0.10, 0.786322), (0.25, 0.786911), (0.40, 0.786066), (0.50, 0.785086)\n",
      "Patch number: 2079 / 22667, Train loss: 0.321343, Dice Scores: (0.10, 0.710631), (0.25, 0.710933), (0.40, 0.710460), (0.50, 0.710043)\n",
      "Patch number: 2283 / 22667, Train loss: 0.312172, Dice Scores: (0.10, 0.721605), (0.25, 0.719787), (0.40, 0.718992), (0.50, 0.716496)\n",
      "Patch number: 2464 / 22667, Train loss: 0.258431, Dice Scores: (0.10, 0.773192), (0.25, 0.773390), (0.40, 0.773281), (0.50, 0.772277)\n",
      "Patch number: 2654 / 22667, Train loss: 0.257926, Dice Scores: (0.10, 0.773439), (0.25, 0.773066), (0.40, 0.771493), (0.50, 0.771615)\n",
      "Patch number: 2916 / 22667, Train loss: 0.225354, Dice Scores: (0.10, 0.806095), (0.25, 0.806565), (0.40, 0.805022), (0.50, 0.804117)\n",
      "Patch number: 3112 / 22667, Train loss: 0.264025, Dice Scores: (0.10, 0.766568), (0.25, 0.766824), (0.40, 0.765902), (0.50, 0.764323)\n",
      "Patch number: 3277 / 22667, Train loss: 0.311735, Dice Scores: (0.10, 0.719803), (0.25, 0.718989), (0.40, 0.718729), (0.50, 0.717467)\n",
      "Patch number: 3463 / 22667, Train loss: 0.274306, Dice Scores: (0.10, 0.756554), (0.25, 0.756919), (0.40, 0.756161), (0.50, 0.755046)\n",
      "Patch number: 3736 / 22667, Train loss: 0.306275, Dice Scores: (0.10, 0.726129), (0.25, 0.725468), (0.40, 0.724043), (0.50, 0.723097)\n",
      "Patch number: 4086 / 22667, Train loss: 0.272756, Dice Scores: (0.10, 0.755608), (0.25, 0.756785), (0.40, 0.756640), (0.50, 0.755951)\n",
      "Patch number: 4270 / 22667, Train loss: 0.206361, Dice Scores: (0.10, 0.823863), (0.25, 0.823455), (0.40, 0.822601), (0.50, 0.821855)\n",
      "Patch number: 4513 / 22667, Train loss: 0.291578, Dice Scores: (0.10, 0.738897), (0.25, 0.739524), (0.40, 0.738707), (0.50, 0.737201)\n",
      "Patch number: 4763 / 22667, Train loss: 0.314144, Dice Scores: (0.10, 0.715761), (0.25, 0.716466), (0.40, 0.715690), (0.50, 0.714778)\n",
      "Patch number: 4928 / 22667, Train loss: 0.257156, Dice Scores: (0.10, 0.772670), (0.25, 0.772067), (0.40, 0.771901), (0.50, 0.770531)\n",
      "Patch number: 5244 / 22667, Train loss: 0.274883, Dice Scores: (0.10, 0.753198), (0.25, 0.753894), (0.40, 0.753528), (0.50, 0.752461)\n",
      "Patch number: 5438 / 22667, Train loss: 0.310024, Dice Scores: (0.10, 0.719904), (0.25, 0.719984), (0.40, 0.720618), (0.50, 0.719582)\n",
      "Patch number: 5711 / 22667, Train loss: 0.255581, Dice Scores: (0.10, 0.770841), (0.25, 0.771894), (0.40, 0.772020), (0.50, 0.771329)\n",
      "Patch number: 5930 / 22667, Train loss: 0.276605, Dice Scores: (0.10, 0.755812), (0.25, 0.754028), (0.40, 0.752412), (0.50, 0.750688)\n",
      "Patch number: 6176 / 22667, Train loss: 0.238426, Dice Scores: (0.10, 0.785049), (0.25, 0.786839), (0.40, 0.788612), (0.50, 0.788634)\n",
      "Patch number: 6419 / 22667, Train loss: 0.260349, Dice Scores: (0.10, 0.766659), (0.25, 0.767630), (0.40, 0.767703), (0.50, 0.767417)\n",
      "Patch number: 6640 / 22667, Train loss: 0.292959, Dice Scores: (0.10, 0.735821), (0.25, 0.736281), (0.40, 0.735346), (0.50, 0.734180)\n",
      "Patch number: 6839 / 22667, Train loss: 0.271252, Dice Scores: (0.10, 0.756812), (0.25, 0.757219), (0.40, 0.757090), (0.50, 0.756021)\n",
      "Patch number: 7069 / 22667, Train loss: 0.295401, Dice Scores: (0.10, 0.732810), (0.25, 0.732437), (0.40, 0.731829), (0.50, 0.730980)\n",
      "Patch number: 7336 / 22667, Train loss: 0.233205, Dice Scores: (0.10, 0.796236), (0.25, 0.795420), (0.40, 0.794410), (0.50, 0.792978)\n",
      "Patch number: 7697 / 22667, Train loss: 0.210241, Dice Scores: (0.10, 0.818052), (0.25, 0.818756), (0.40, 0.818258), (0.50, 0.817410)\n",
      "Patch number: 8018 / 22667, Train loss: 0.242397, Dice Scores: (0.10, 0.787775), (0.25, 0.787031), (0.40, 0.786136), (0.50, 0.785013)\n",
      "Patch number: 8229 / 22667, Train loss: 0.235669, Dice Scores: (0.10, 0.791691), (0.25, 0.792583), (0.40, 0.791371), (0.50, 0.789675)\n",
      "Patch number: 8503 / 22667, Train loss: 0.268545, Dice Scores: (0.10, 0.759084), (0.25, 0.759740), (0.40, 0.758944), (0.50, 0.758113)\n",
      "Patch number: 8839 / 22667, Train loss: 0.243893, Dice Scores: (0.10, 0.783572), (0.25, 0.784451), (0.40, 0.783924), (0.50, 0.783285)\n",
      "Patch number: 9060 / 22667, Train loss: 0.254956, Dice Scores: (0.10, 0.777978), (0.25, 0.776995), (0.40, 0.775078), (0.50, 0.773275)\n",
      "Patch number: 9415 / 22667, Train loss: 0.213391, Dice Scores: (0.10, 0.817603), (0.25, 0.816715), (0.40, 0.814912), (0.50, 0.812363)\n",
      "Patch number: 9676 / 22667, Train loss: 0.289287, Dice Scores: (0.10, 0.738153), (0.25, 0.738373), (0.40, 0.738348), (0.50, 0.737512)\n",
      "Patch number: 9987 / 22667, Train loss: 0.289215, Dice Scores: (0.10, 0.739816), (0.25, 0.739880), (0.40, 0.738323), (0.50, 0.736769)\n",
      "Patch number: 10316 / 22667, Train loss: 0.217071, Dice Scores: (0.10, 0.810244), (0.25, 0.811322), (0.40, 0.811422), (0.50, 0.810585)\n",
      "Patch number: 10642 / 22667, Train loss: 0.215788, Dice Scores: (0.10, 0.808553), (0.25, 0.809578), (0.40, 0.810686), (0.50, 0.810890)\n",
      "Patch number: 10968 / 22667, Train loss: 0.269603, Dice Scores: (0.10, 0.759803), (0.25, 0.759270), (0.40, 0.757930), (0.50, 0.756142)\n",
      "Patch number: 11221 / 22667, Train loss: 0.228991, Dice Scores: (0.10, 0.797084), (0.25, 0.798513), (0.40, 0.798801), (0.50, 0.798236)\n",
      "Patch number: 11450 / 22667, Train loss: 0.231283, Dice Scores: (0.10, 0.797109), (0.25, 0.797555), (0.40, 0.795904), (0.50, 0.794517)\n",
      "Patch number: 11952 / 22667, Train loss: 0.228872, Dice Scores: (0.10, 0.794732), (0.25, 0.797226), (0.40, 0.797347), (0.50, 0.797034)\n",
      "Patch number: 12177 / 22667, Train loss: 0.235435, Dice Scores: (0.10, 0.787886), (0.25, 0.789990), (0.40, 0.790341), (0.50, 0.790318)\n",
      "Patch number: 12479 / 22667, Train loss: 0.231870, Dice Scores: (0.10, 0.795180), (0.25, 0.795845), (0.40, 0.796253), (0.50, 0.795706)\n",
      "Patch number: 12691 / 22667, Train loss: 0.275628, Dice Scores: (0.10, 0.755167), (0.25, 0.753805), (0.40, 0.752793), (0.50, 0.750899)\n",
      "Patch number: 12927 / 22667, Train loss: 0.225754, Dice Scores: (0.10, 0.803383), (0.25, 0.802126), (0.40, 0.800145), (0.50, 0.798639)\n",
      "Patch number: 13137 / 22667, Train loss: 0.242295, Dice Scores: (0.10, 0.786904), (0.25, 0.787234), (0.40, 0.785605), (0.50, 0.783560)\n",
      "Patch number: 13362 / 22667, Train loss: 0.219101, Dice Scores: (0.10, 0.802408), (0.25, 0.805855), (0.40, 0.807239), (0.50, 0.807242)\n",
      "Patch number: 13611 / 22667, Train loss: 0.300457, Dice Scores: (0.10, 0.730668), (0.25, 0.729758), (0.40, 0.729179), (0.50, 0.728468)\n",
      "Patch number: 13903 / 22667, Train loss: 0.294781, Dice Scores: (0.10, 0.732364), (0.25, 0.732869), (0.40, 0.733068), (0.50, 0.731952)\n",
      "Patch number: 14370 / 22667, Train loss: 0.336533, Dice Scores: (0.10, 0.692667), (0.25, 0.692843), (0.40, 0.691476), (0.50, 0.689902)\n",
      "Patch number: 14671 / 22667, Train loss: 0.237440, Dice Scores: (0.10, 0.787989), (0.25, 0.789190), (0.40, 0.789210), (0.50, 0.789300)\n",
      "Patch number: 14881 / 22667, Train loss: 0.257267, Dice Scores: (0.10, 0.767986), (0.25, 0.769972), (0.40, 0.770937), (0.50, 0.770465)\n",
      "Patch number: 15106 / 22667, Train loss: 0.214705, Dice Scores: (0.10, 0.811311), (0.25, 0.813043), (0.40, 0.812026), (0.50, 0.811243)\n",
      "Patch number: 15339 / 22667, Train loss: 0.242569, Dice Scores: (0.10, 0.786386), (0.25, 0.786203), (0.40, 0.784220), (0.50, 0.783084)\n",
      "Patch number: 15522 / 22667, Train loss: 0.230533, Dice Scores: (0.10, 0.794639), (0.25, 0.796247), (0.40, 0.796262), (0.50, 0.796079)\n",
      "Patch number: 15842 / 22667, Train loss: 0.226973, Dice Scores: (0.10, 0.800484), (0.25, 0.801488), (0.40, 0.801354), (0.50, 0.800426)\n",
      "Patch number: 16128 / 22667, Train loss: 0.216203, Dice Scores: (0.10, 0.812160), (0.25, 0.812851), (0.40, 0.812688), (0.50, 0.812503)\n",
      "Patch number: 16416 / 22667, Train loss: 0.241839, Dice Scores: (0.10, 0.782912), (0.25, 0.785400), (0.40, 0.786274), (0.50, 0.786585)\n",
      "Patch number: 16722 / 22667, Train loss: 0.268428, Dice Scores: (0.10, 0.763295), (0.25, 0.762794), (0.40, 0.760724), (0.50, 0.758456)\n",
      "Patch number: 16903 / 22667, Train loss: 0.278885, Dice Scores: (0.10, 0.751010), (0.25, 0.751340), (0.40, 0.750571), (0.50, 0.750664)\n",
      "Patch number: 17273 / 22667, Train loss: 0.233331, Dice Scores: (0.10, 0.794265), (0.25, 0.794421), (0.40, 0.794664), (0.50, 0.794086)\n",
      "Patch number: 17509 / 22667, Train loss: 0.214728, Dice Scores: (0.10, 0.810264), (0.25, 0.811770), (0.40, 0.812492), (0.50, 0.811944)\n",
      "Patch number: 17701 / 22667, Train loss: 0.215721, Dice Scores: (0.10, 0.813303), (0.25, 0.813665), (0.40, 0.813089), (0.50, 0.811113)\n",
      "Patch number: 18023 / 22667, Train loss: 0.230097, Dice Scores: (0.10, 0.798621), (0.25, 0.798106), (0.40, 0.797635), (0.50, 0.797028)\n",
      "Patch number: 18306 / 22667, Train loss: 0.263156, Dice Scores: (0.10, 0.767605), (0.25, 0.767075), (0.40, 0.765848), (0.50, 0.764371)\n",
      "Patch number: 18522 / 22667, Train loss: 0.265116, Dice Scores: (0.10, 0.762436), (0.25, 0.762907), (0.40, 0.763251), (0.50, 0.762934)\n",
      "Patch number: 18839 / 22667, Train loss: 0.235876, Dice Scores: (0.10, 0.789743), (0.25, 0.790971), (0.40, 0.790688), (0.50, 0.790368)\n",
      "Patch number: 19121 / 22667, Train loss: 0.217732, Dice Scores: (0.10, 0.809060), (0.25, 0.809481), (0.40, 0.809068), (0.50, 0.807537)\n",
      "Patch number: 19381 / 22667, Train loss: 0.276630, Dice Scores: (0.10, 0.748584), (0.25, 0.750456), (0.40, 0.750999), (0.50, 0.750756)\n",
      "Patch number: 19645 / 22667, Train loss: 0.260375, Dice Scores: (0.10, 0.767463), (0.25, 0.768950), (0.40, 0.769131), (0.50, 0.768838)\n",
      "Patch number: 19860 / 22667, Train loss: 0.255604, Dice Scores: (0.10, 0.770384), (0.25, 0.771183), (0.40, 0.771134), (0.50, 0.770828)\n",
      "Patch number: 20148 / 22667, Train loss: 0.194832, Dice Scores: (0.10, 0.831557), (0.25, 0.832048), (0.40, 0.832026), (0.50, 0.831716)\n",
      "Patch number: 20442 / 22667, Train loss: 0.269942, Dice Scores: (0.10, 0.758552), (0.25, 0.759462), (0.40, 0.759811), (0.50, 0.759521)\n",
      "Patch number: 20687 / 22667, Train loss: 0.282532, Dice Scores: (0.10, 0.746324), (0.25, 0.746444), (0.40, 0.744759), (0.50, 0.743158)\n",
      "Patch number: 21004 / 22667, Train loss: 0.236539, Dice Scores: (0.10, 0.792261), (0.25, 0.791760), (0.40, 0.791040), (0.50, 0.790020)\n",
      "Patch number: 21358 / 22667, Train loss: 0.245581, Dice Scores: (0.10, 0.777821), (0.25, 0.779732), (0.40, 0.780474), (0.50, 0.780502)\n",
      "Patch number: 21642 / 22667, Train loss: 0.236763, Dice Scores: (0.10, 0.790524), (0.25, 0.791692), (0.40, 0.791908), (0.50, 0.792109)\n",
      "Patch number: 21975 / 22667, Train loss: 0.250494, Dice Scores: (0.10, 0.777935), (0.25, 0.777533), (0.40, 0.777186), (0.50, 0.775889)\n",
      "Patch number: 22184 / 22667, Train loss: 0.250920, Dice Scores: (0.10, 0.780563), (0.25, 0.779416), (0.40, 0.778104), (0.50, 0.775836)\n",
      "Patch number: 22430 / 22667, Train loss: 0.209668, Dice Scores: (0.10, 0.813344), (0.25, 0.815810), (0.40, 0.816600), (0.50, 0.816595)\n",
      "Patch number: 22616 / 22667, Train loss: 0.290684, Dice Scores: (0.10, 0.739213), (0.25, 0.738361), (0.40, 0.737621), (0.50, 0.736115)\n",
      "22666 / 22667\r"
     ]
    }
   ],
   "source": [
    "debugging = True\n",
    "\n",
    "if debugging:\n",
    "    train_loop(model, loss_fn, optimizer, scheduler, preprocessed_patches)\n",
    "else:\n",
    "    try:\n",
    "        for t in range(epochs):\n",
    "            print(f\"Epoch {t+1}\\n-------------------------------\")\n",
    "\n",
    "            train_loop(model, loss_fn, optimizer, scheduler, preprocessed_patches)\n",
    "        print(\"Done!\")\n",
    "    except:\n",
    "        print(\"Keyboard interruption.\")\n",
    "        model.eval()"
   ]
  },
  {
   "cell_type": "code",
   "execution_count": null,
   "metadata": {
    "tags": []
   },
   "outputs": [],
   "source": []
  },
  {
   "cell_type": "code",
   "execution_count": null,
   "metadata": {
    "tags": []
   },
   "outputs": [],
   "source": [
    "print(\"------INFERENCE--------\")"
   ]
  },
  {
   "cell_type": "code",
   "execution_count": null,
   "metadata": {
    "tags": []
   },
   "outputs": [],
   "source": [
    "if not debugging:\n",
    "    save_model(model)"
   ]
  },
  {
   "cell_type": "code",
   "execution_count": null,
   "metadata": {},
   "outputs": [],
   "source": []
  }
 ],
 "metadata": {
  "kernelspec": {
   "display_name": "Exploration Tutorial",
   "language": "python",
   "name": "exploration-tutorial"
  },
  "language_info": {
   "codemirror_mode": {
    "name": "ipython",
    "version": 3
   },
   "file_extension": ".py",
   "mimetype": "text/x-python",
   "name": "python",
   "nbconvert_exporter": "python",
   "pygments_lexer": "ipython3",
   "version": "3.10.12"
  }
 },
 "nbformat": 4,
 "nbformat_minor": 4
}

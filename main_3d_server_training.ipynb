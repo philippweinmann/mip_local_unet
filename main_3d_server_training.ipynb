{
 "cells": [
  {
   "cell_type": "code",
   "execution_count": 1,
   "metadata": {
    "tags": []
   },
   "outputs": [],
   "source": [
    "import copy\n",
    "import torch\n",
    "import torch.nn as nn\n",
    "import numpy as np\n",
    "\n",
    "from data_generation.generate_3d import ImageGenerator\n",
    "from data_generation.generate_utils import get_batch\n",
    "from data_generation.config import original_image_shape, cubic_simple_dims\n",
    "\n",
    "from models.net_utils import calculate_jaccard_score, calculate_dice_score, save_model\n",
    "from models.net_utils import get_best_device, prepare_image_for_network_input, prepare_image_for_analysis\n",
    "from models.net_visualizations import three_d_visualize_model_progress, display3DImageMaskTuple\n",
    "\n",
    "from models.unet3D import UNet3D, dice_bce_loss\n",
    "from data.data_utils import pad_image, divide_3d_image_into_patches, get_padded_patches\n",
    "\n",
    "from sklearn.model_selection import train_test_split\n",
    "from server_specific.server_utils import get_patients"
   ]
  },
  {
   "cell_type": "code",
   "execution_count": 2,
   "metadata": {
    "tags": []
   },
   "outputs": [
    {
     "name": "stdout",
     "output_type": "stream",
     "text": [
      "amt of detected_files:  1800\n",
      "amt of patients:  800\n",
      "Train dataset: (700,)\n",
      "Test dataset: (100,)\n"
     ]
    }
   ],
   "source": [
    "patients = get_patients()\n",
    "patients = np.array(patients)\n",
    "\n",
    "train_patients = patients[0:700]\n",
    "test_patients = patients[700:]\n",
    "\n",
    "print(\"Train dataset:\", train_patients.shape)\n",
    "print(\"Test dataset:\", test_patients.shape)"
   ]
  },
  {
   "cell_type": "code",
   "execution_count": 3,
   "metadata": {
    "tags": []
   },
   "outputs": [
    {
     "name": "stdout",
     "output_type": "stream",
     "text": [
      "Using cuda device. Every tensor created will be by default on cuda\n"
     ]
    }
   ],
   "source": [
    "# define which device is used for training\n",
    "# todo replace with original image shape\n",
    "default_image_shape = original_image_shape # only works for 3d\n",
    "\n",
    "device = get_best_device()\n",
    "\n",
    "if device == \"mps\":\n",
    "    # mps is not supported for 3d\n",
    "    device = \"cpu\"\n",
    "\n",
    "torch.set_default_device(device)\n",
    "print(f\"Using {device} device. Every tensor created will be by default on {device}\")"
   ]
  },
  {
   "cell_type": "code",
   "execution_count": 4,
   "metadata": {
    "tags": []
   },
   "outputs": [
    {
     "name": "stdout",
     "output_type": "stream",
     "text": [
      "setting default functions for three dimensions\n"
     ]
    }
   ],
   "source": [
    "print(\"setting default functions for three dimensions\")\n",
    "image_generator = ImageGenerator(default_image_shape)\n",
    "\n",
    "default_image_mask_visulization_function = display3DImageMaskTuple\n",
    "default_model_progress_visualization_function = three_d_visualize_model_progress\n",
    "\n",
    "model = UNet3D(in_channels=1, num_classes=1)\n",
    "model.to(device);"
   ]
  },
  {
   "cell_type": "code",
   "execution_count": 5,
   "metadata": {
    "tags": []
   },
   "outputs": [
    {
     "name": "stdout",
     "output_type": "stream",
     "text": [
      "image_shape:  (275, 512, 512)\n"
     ]
    }
   ],
   "source": [
    "image, mask = image_generator.get_3DImage()\n",
    "print(\"image_shape: \", image.shape)"
   ]
  },
  {
   "cell_type": "code",
   "execution_count": 6,
   "metadata": {
    "tags": []
   },
   "outputs": [
    {
     "name": "stdout",
     "output_type": "stream",
     "text": [
      "----------------TRAINING-------------\n"
     ]
    }
   ],
   "source": [
    "print(\"----------------TRAINING-------------\")\n",
    "\n",
    "additional_score_tuples = [(\"jaccard score\", calculate_jaccard_score), (\"dice score\", calculate_dice_score)] # (\"hausdorff distance\", calculate_hausdorff_distance)\n",
    "\n",
    "padded_shape = (320, 512, 512)\n",
    "patch_size = 64\n",
    "block_shape = (patch_size, patch_size, patch_size)\n",
    "\n",
    "custom_threshold = 0.5\n",
    "\n",
    "def train_loop(model, loss_fn, optimizer, image, mask):\n",
    "    model.train()\n",
    "    \n",
    "    avg_train_loss = 0\n",
    "    avg_jaccard_score = 0\n",
    "    avg_dice_score = 0\n",
    "\n",
    "    image_patches, mask_patches = get_padded_patches(image, mask, patch_size)\n",
    "\n",
    "    patch_shape = image_patches.shape\n",
    "    amt_of_image_patches = patch_shape[0] * patch_shape[1] * patch_shape[2]\n",
    "    amt_of_image_patches_with_arteries = amt_of_image_patches\n",
    "    # reconstructed_prediction_mask = np.zeros((padded_shape))\n",
    "    \n",
    "    patch_counter = 0\n",
    "    for i in range(patch_shape[0]):\n",
    "        for j in range(patch_shape[1]):\n",
    "            for k in range(patch_shape[2]):\n",
    "                patch_counter += 1\n",
    "                \n",
    "                current_image_patch = image_patches[i, j, k]\n",
    "                current_mask_patch = mask_patches[i, j, k]\n",
    "\n",
    "                if np.all(current_mask_patch == 0):\n",
    "                    # print(\"skipping patch\")\n",
    "                    amt_of_image_patches_with_arteries -= 1\n",
    "                    continue\n",
    "                    \n",
    "                current_image_patch = prepare_image_for_network_input(current_image_patch)\n",
    "                current_mask_patch = prepare_image_for_network_input(current_mask_patch)\n",
    "\n",
    "                optimizer.zero_grad()\n",
    "\n",
    "                current_prediction_patch = model(current_image_patch)\n",
    "                loss = loss_fn(current_prediction_patch, current_mask_patch)\n",
    "                \n",
    "                additional_metrics = []\n",
    "                \n",
    "                for name, additional_score_function in additional_score_tuples:\n",
    "                    score = additional_score_function(current_mask_patch, current_image_patch, threshold=custom_threshold)\n",
    "                    additional_metrics.append((name, score))\n",
    "\n",
    "                loss.backward()\n",
    "                optimizer.step()\n",
    "\n",
    "                train_loss = loss.item()\n",
    "                avg_train_loss += train_loss\n",
    "                avg_jaccard_score += calculate_jaccard_score(current_mask_patch, current_prediction_patch)\n",
    "                avg_dice_score += calculate_dice_score(current_mask_patch, current_prediction_patch)\n",
    "                \n",
    "                train_log = f\"Patch number: {patch_counter} / {amt_of_image_patches}, Train loss: {train_loss:>8f}\"\n",
    "                for name, score in additional_metrics:\n",
    "                    train_log = train_log + f\" | {name}: {score}\"\n",
    "\n",
    "                print(train_log, end=\"\\r\")\n",
    "    \n",
    "    avg_train_loss /= amt_of_image_patches_with_arteries\n",
    "    avg_jaccard_score /= amt_of_image_patches_with_arteries\n",
    "    avg_dice_score /= amt_of_image_patches_with_arteries\n",
    "\n",
    "    print(f\"For this patient: average test loss: {avg_train_loss:8f}  | average Jaccard Score: {avg_jaccard_score:8f} | average Dice Score: {avg_dice_score:8f}\\n\")\n",
    "    \n",
    "    return avg_train_loss"
   ]
  },
  {
   "cell_type": "code",
   "execution_count": 7,
   "metadata": {
    "tags": []
   },
   "outputs": [],
   "source": [
    "def test_loop(model, loss_fn, image, mask):\n",
    "    model.eval()\n",
    "\n",
    "    test_loss = 0\n",
    "    jaccard_score = 0\n",
    "    dice_score = 0\n",
    "\n",
    "    image_patches, mask_patches = get_padded_patches(image, mask, patch_size)\n",
    "\n",
    "    patch_shape = image_patches.shape\n",
    "    amt_of_image_patches = patch_shape[0] * patch_shape[1] * patch_shape[2]\n",
    "    amt_of_image_patches_with_arteries = amt_of_image_patches\n",
    "    # reconstructed_prediction_mask = np.zeros((padded_shape))\n",
    "    \n",
    "    patch_counter = 0\n",
    "    for i in range(patch_shape[0]):\n",
    "        for j in range(patch_shape[1]):\n",
    "            for k in range(patch_shape[2]):\n",
    "                patch_counter += 1\n",
    "                current_image_patch = image_patches[i, j, k]\n",
    "                current_mask_patch = mask_patches[i, j, k]\n",
    "                \n",
    "                if np.all(current_mask_patch == 0):\n",
    "                    # print(\"skipping patch\")\n",
    "                    amt_of_image_patches_with_arteries -= 1\n",
    "                    continue\n",
    "                    \n",
    "                current_image_patch = prepare_image_for_network_input(current_image_patch)\n",
    "                current_mask_patch = prepare_image_for_network_input(current_mask_patch)\n",
    "\n",
    "                with torch.no_grad():\n",
    "                    current_prediction_patch = model(current_image_patch)\n",
    "                    patch_loss = loss_fn(current_prediction_patch, current_mask_patch).item()\n",
    "                    test_loss += patch_loss\n",
    "\n",
    "                    patch_jaccard_score = calculate_jaccard_score(current_mask_patch, current_prediction_patch, threshold=custom_threshold)\n",
    "                    patch_dice_score = calculate_dice_score(current_mask_patch, current_prediction_patch, threshold=custom_threshold)\n",
    "\n",
    "                    jaccard_score += patch_jaccard_score\n",
    "                    dice_score += patch_dice_score\n",
    "\n",
    "                    # print(f\"Patch number: {patch_counter} / {amt_of_image_patches}, Test loss: {patch_loss:>8f}  | Jaccard Score: {patch_jaccard_score:>8f} | Dice Score: {patch_dice_score:>8f}\\n\", end=\"\\r\")\n",
    "\n",
    "    test_loss /= amt_of_image_patches_with_arteries\n",
    "    jaccard_score /= amt_of_image_patches_with_arteries\n",
    "    dice_score /= amt_of_image_patches_with_arteries\n",
    "\n",
    "    print(f\"Patch number: {patch_counter} / {amt_of_image_patches}, average test loss: {test_loss:8f}  | average Jaccard Score: {jaccard_score:8f} | average Dice Score: {dice_score:8f}\\n\", end=\"\\r\")\n",
    "\n",
    "    # default_model_progress_visualization_function(model, image_generator.get_3DImage)\n",
    "    \n",
    "    # to make sure that the plot gets displayed during training\n",
    "    # plt.pause(0.001)\n",
    "\n",
    "    # returning for patience\n",
    "    return test_loss"
   ]
  },
  {
   "cell_type": "code",
   "execution_count": 8,
   "metadata": {
    "tags": []
   },
   "outputs": [],
   "source": [
    "# resetting the model\n",
    "model = UNet3D(in_channels=1, num_classes=1)\n",
    "model.to(device)\n",
    "\n",
    "# print(\"model prediction at initialization: \")\n",
    "# default_model_progress_visualization_function(model, image_generator.get_3DImage)\n",
    "\n",
    "# running it\n",
    "# param initialization for patience\n",
    "best_loss = float('inf')  \n",
    "best_model_weights = None  \n",
    "patience_base_value = 6\n",
    "patience = patience_base_value\n",
    "\n",
    "# loss_fn = nn.BCELoss()\n",
    "loss_fn = dice_bce_loss\n",
    "optimizer = torch.optim.SGD(model.parameters(), lr=0.1)\n",
    "epochs = 2"
   ]
  },
  {
   "cell_type": "code",
   "execution_count": null,
   "metadata": {
    "tags": []
   },
   "outputs": [
    {
     "name": "stdout",
     "output_type": "stream",
     "text": [
      "Epoch 1\n",
      "-------------------------------\n",
      "tuple of 7 train patients, 1 test patient\n",
      "processing tuple 0 from 100 tuples\n",
      "current train patient: 1 / 7\n",
      "For this patient: average test loss: 1.192518  | average Jaccard Score: 0.009357 | average Dice Score: 0.01686010709565955\n",
      "\n",
      "current train patient: 2 / 7\n",
      "For this patient: average test loss: 1.046538  | average Jaccard Score: 0.006660 | average Dice Score: 0.01188673726541626\n",
      "\n",
      "current train patient: 3 / 7\n",
      "For this patient: average test loss: 1.010616  | average Jaccard Score: 0.049519 | average Dice Score: 0.0795009578457924\n",
      "\n",
      "current train patient: 4 / 7\n",
      "For this patient: average test loss: 0.961435  | average Jaccard Score: 0.099248 | average Dice Score: 0.1555007385186291\n",
      "\n",
      "current train patient: 5 / 7\n",
      "For this patient: average test loss: 0.993081  | average Jaccard Score: 0.061065 | average Dice Score: 0.10679143383947705\n",
      "\n",
      "current train patient: 6 / 7\n",
      "For this patient: average test loss: 0.921552  | average Jaccard Score: 0.120198 | average Dice Score: 0.184855791671476\n",
      "\n",
      "current train patient: 7 / 7\n",
      "For this patient: average test loss: 0.912450  | average Jaccard Score: 0.119380 | average Dice Score: 0.200546016254547\n",
      "\n",
      "Patch number: 320 / 320, average test loss: 0.978313  | average Jaccard Score: 0.125790 | average Dice Score: 0.188532\n",
      "Patch number: 256 / 256, average test loss: 0.902637  | average Jaccard Score: 0.100398 | average Dice Score: 0.161454\n",
      "Patch number: 256 / 256, average test loss: 0.932360  | average Jaccard Score: 0.102020 | average Dice Score: 0.171948\n",
      "Patch number: 320 / 320, average test loss: 0.916751  | average Jaccard Score: 0.080615 | average Dice Score: 0.139698\n",
      "Patch number: 256 / 256, average test loss: 0.946324  | average Jaccard Score: 0.084609 | average Dice Score: 0.137542\n",
      "Patch number: 256 / 256, average test loss: 0.894458  | average Jaccard Score: 0.112532 | average Dice Score: 0.181346\n",
      "Patch number: 320 / 320, average test loss: 0.920789  | average Jaccard Score: 0.082028 | average Dice Score: 0.138896\n",
      "Patch number: 320 / 320, average test loss: 0.866267  | average Jaccard Score: 0.142659 | average Dice Score: 0.223349\n",
      "Patch number: 320 / 320, average test loss: 0.889713  | average Jaccard Score: 0.112592 | average Dice Score: 0.185140\n",
      "Patch number: 320 / 320, average test loss: 0.956456  | average Jaccard Score: 0.077015 | average Dice Score: 0.127675\n",
      "average test loss on the 10 first test patients: 0.920406689967993\n",
      "previous best loss: inf\n",
      "patience:  6\n",
      "processing tuple 1 from 100 tuples\n",
      "current train patient: 1 / 7\n",
      "For this patient: average test loss: 0.962923  | average Jaccard Score: 0.064844 | average Dice Score: 0.11249836560668675\n",
      "\n",
      "current train patient: 2 / 7\n",
      "For this patient: average test loss: 0.948416  | average Jaccard Score: 0.102078 | average Dice Score: 0.16187812946472844\n",
      "\n",
      "current train patient: 3 / 7\n",
      "For this patient: average test loss: 0.918656  | average Jaccard Score: 0.105597 | average Dice Score: 0.1612719771761956\n",
      "\n",
      "current train patient: 4 / 7\n",
      "For this patient: average test loss: 0.857164  | average Jaccard Score: 0.156489 | average Dice Score: 0.24568593127655212\n",
      "\n",
      "current train patient: 5 / 7\n",
      "For this patient: average test loss: 0.907716  | average Jaccard Score: 0.124899 | average Dice Score: 0.1940250516353936\n",
      "\n",
      "current train patient: 6 / 7\n",
      "For this patient: average test loss: 0.831002  | average Jaccard Score: 0.178232 | average Dice Score: 0.24920244216485973\n",
      "\n",
      "current train patient: 7 / 7\n",
      "For this patient: average test loss: 0.833856  | average Jaccard Score: 0.187121 | average Dice Score: 0.2565914541142335\n",
      "\n",
      "Patch number: 320 / 320, average test loss: 1.024070  | average Jaccard Score: 0.044802 | average Dice Score: 0.075650\n",
      "Patch number: 256 / 256, average test loss: 1.023110  | average Jaccard Score: 0.005092 | average Dice Score: 0.009773\n",
      "Patch number: 256 / 256, average test loss: 1.039174  | average Jaccard Score: 0.021806 | average Dice Score: 0.039825\n",
      "Patch number: 320 / 320, average test loss: 1.032721  | average Jaccard Score: 0.008709 | average Dice Score: 0.016608\n",
      "Patch number: 256 / 256, average test loss: 1.013970  | average Jaccard Score: 0.022382 | average Dice Score: 0.040698\n",
      "Patch number: 256 / 256, average test loss: 1.008189  | average Jaccard Score: 0.023708 | average Dice Score: 0.042882\n",
      "Patch number: 320 / 320, average test loss: 1.036732  | average Jaccard Score: 0.005359 | average Dice Score: 0.010351\n",
      "Patch number: 320 / 320, average test loss: 1.005607  | average Jaccard Score: 0.023398 | average Dice Score: 0.043262\n",
      "Patch number: 320 / 320, average test loss: 1.020933  | average Jaccard Score: 0.004401 | average Dice Score: 0.008595\n",
      "Patch number: 320 / 320, average test loss: 1.023909  | average Jaccard Score: 0.006405 | average Dice Score: 0.012067\n",
      "average test loss on the 10 first test patients: 1.0228414853847032\n",
      "current best loss: 0.920406689967993\n",
      "patience:  5\n",
      "processing tuple 2 from 100 tuples\n",
      "current train patient: 1 / 7\n",
      "For this patient: average test loss: 0.819895  | average Jaccard Score: 0.188777 | average Dice Score: 0.26804831344184575\n",
      "\n",
      "current train patient: 2 / 7\n",
      "For this patient: average test loss: 0.821181  | average Jaccard Score: 0.173674 | average Dice Score: 0.2605722057376877\n",
      "\n",
      "current train patient: 3 / 7\n",
      "For this patient: average test loss: 0.855521  | average Jaccard Score: 0.155597 | average Dice Score: 0.23530843948283\n",
      "\n",
      "current train patient: 4 / 7\n",
      "For this patient: average test loss: 0.832504  | average Jaccard Score: 0.173141 | average Dice Score: 0.25940409968957967\n",
      "\n",
      "current train patient: 5 / 7\n",
      "For this patient: average test loss: 0.775474  | average Jaccard Score: 0.203651 | average Dice Score: 0.2992107379932677\n",
      "\n",
      "current train patient: 6 / 7\n",
      "For this patient: average test loss: 0.721064  | average Jaccard Score: 0.249963 | average Dice Score: 0.3609389883595152\n",
      "\n",
      "current train patient: 7 / 7\n",
      "For this patient: average test loss: 0.850484  | average Jaccard Score: 0.176039 | average Dice Score: 0.2662378477727-05\n",
      "\n",
      "Patch number: 320 / 320, average test loss: 0.901961  | average Jaccard Score: 0.124889 | average Dice Score: 0.192620\n",
      "Patch number: 256 / 256, average test loss: 0.903607  | average Jaccard Score: 0.087737 | average Dice Score: 0.144963\n",
      "Patch number: 256 / 256, average test loss: 0.929633  | average Jaccard Score: 0.094964 | average Dice Score: 0.160800\n",
      "Patch number: 320 / 320, average test loss: 0.896341  | average Jaccard Score: 0.097351 | average Dice Score: 0.163903\n",
      "Patch number: 256 / 256, average test loss: 0.894891  | average Jaccard Score: 0.103099 | average Dice Score: 0.166725\n",
      "Patch number: 256 / 256, average test loss: 0.861992  | average Jaccard Score: 0.123135 | average Dice Score: 0.197382\n",
      "Patch number: 320 / 320, average test loss: 0.892944  | average Jaccard Score: 0.099091 | average Dice Score: 0.165437\n",
      "Patch number: 320 / 320, average test loss: 0.840200  | average Jaccard Score: 0.138009 | average Dice Score: 0.219666\n",
      "Patch number: 320 / 320, average test loss: 0.831038  | average Jaccard Score: 0.131893 | average Dice Score: 0.217823\n",
      "Patch number: 320 / 320, average test loss: 0.891785  | average Jaccard Score: 0.092973 | average Dice Score: 0.154115\n",
      "average test loss on the 10 first test patients: 0.8844392330793289\n",
      "previous best loss: 0.920406689967993\n",
      "patience:  6\n",
      "processing tuple 3 from 100 tuples\n",
      "current train patient: 1 / 7\n",
      "For this patient: average test loss: 0.738771  | average Jaccard Score: 0.239834 | average Dice Score: 0.34184891885327874\n",
      "\n",
      "current train patient: 2 / 7\n",
      "For this patient: average test loss: 0.706677  | average Jaccard Score: 0.257300 | average Dice Score: 0.3654266734739275\n",
      "\n",
      "current train patient: 3 / 7\n",
      "For this patient: average test loss: 0.745551  | average Jaccard Score: 0.231099 | average Dice Score: 0.3279750573247575\n",
      "\n",
      "current train patient: 4 / 7\n",
      "For this patient: average test loss: 0.797836  | average Jaccard Score: 0.186261 | average Dice Score: 0.2682267305424464\n",
      "\n",
      "current train patient: 5 / 7\n",
      "For this patient: average test loss: 0.775788  | average Jaccard Score: 0.209440 | average Dice Score: 0.3147973119447189\n",
      "\n",
      "current train patient: 6 / 7\n",
      "For this patient: average test loss: 0.694083  | average Jaccard Score: 0.268269 | average Dice Score: 0.3890494641296396\n",
      "\n",
      "current train patient: 7 / 7\n",
      "For this patient: average test loss: 0.808814  | average Jaccard Score: 0.186542 | average Dice Score: 0.26950996195353247\n",
      "\n",
      "Patch number: 320 / 320, average test loss: 0.935499  | average Jaccard Score: 0.164774 | average Dice Score: 0.239690\n",
      "\r"
     ]
    }
   ],
   "source": [
    "# overriding test patients to always test on the same patients\n",
    "amt_test_patients = 10\n",
    "current_test_patients = test_patients[0:amt_test_patients]\n",
    "\n",
    "try:\n",
    "    for t in range(epochs):\n",
    "        print(f\"Epoch {t+1}\\n-------------------------------\")\n",
    "        print(\"tuple of 7 train patients, 1 test patient\")\n",
    "        for i in range(100):\n",
    "            print(f\"processing tuple {i} from 100 tuples\")\n",
    "            \n",
    "            current_train_patients = train_patients[i*7:(i+1)*7]\n",
    "            # current_test_patients = test_patients[i]\n",
    "            \n",
    "            average_train_losses = []\n",
    "            average_test_losses = []\n",
    "            for current_train_idx, current_train_patient in enumerate(current_train_patients):\n",
    "                print(f\"current train patient: {current_train_idx + 1} / 7\")\n",
    "                current_train_image, current_train_mask = current_train_patient.get_image_mask_tuple()\n",
    "                current_average_train_loss = train_loop(model, loss_fn, optimizer, current_train_image, current_train_mask)\n",
    "                average_train_losses.append(current_average_train_loss)\n",
    "            # testing for each epoch to track the models performance during training.\n",
    "            \n",
    "            avg_test_loss = 0\n",
    "            for test_patient_idx, current_test_patient in enumerate(current_test_patients):\n",
    "                current_test_image, current_test_mask = current_test_patient.get_image_mask_tuple()\n",
    "                current_test_loss = test_loop(model, loss_fn, current_test_image, current_test_mask)\n",
    "                avg_test_loss += current_test_loss\n",
    "            \n",
    "            avg_test_loss /= amt_test_patients\n",
    "            print(f\"average test loss on the {amt_test_patients} first test patients: {avg_test_loss}\")\n",
    "            \n",
    "            if avg_test_loss < best_loss:\n",
    "                print(f\"previous best loss: {best_loss}\")\n",
    "                best_loss = avg_test_loss\n",
    "                best_model_weights = copy.deepcopy(model.state_dict())\n",
    "                patience = patience_base_value\n",
    "            else:\n",
    "                print(f\"current best loss: {best_loss}\")\n",
    "                patience -= 1\n",
    "                if patience <= 0:\n",
    "                    break\n",
    "            print(\"patience: \", patience)\n",
    "    print(\"Done!\")\n",
    "except KeyboardInterrupt:\n",
    "    print(\"training interrupted by the user\")\n",
    "    model.eval()"
   ]
  },
  {
   "cell_type": "code",
   "execution_count": null,
   "metadata": {
    "tags": []
   },
   "outputs": [],
   "source": [
    "print(\"------INFERENCE--------\")\n",
    "\n",
    "'''\n",
    "for i in range(10):\n",
    "    mask, pred = default_model_progress_visualization_function(model, get_image_fct=image_generator.get_3DImage)\n",
    "    print(\"jaccard score for above image: \", calculate_jaccard_score(mask, pred))\n",
    "'''"
   ]
  },
  {
   "cell_type": "code",
   "execution_count": null,
   "metadata": {
    "tags": []
   },
   "outputs": [],
   "source": [
    "save_model(model)"
   ]
  },
  {
   "cell_type": "code",
   "execution_count": null,
   "metadata": {},
   "outputs": [],
   "source": []
  }
 ],
 "metadata": {
  "kernelspec": {
   "display_name": "Exploration Tutorial",
   "language": "python",
   "name": "exploration-tutorial"
  },
  "language_info": {
   "codemirror_mode": {
    "name": "ipython",
    "version": 3
   },
   "file_extension": ".py",
   "mimetype": "text/x-python",
   "name": "python",
   "nbconvert_exporter": "python",
   "pygments_lexer": "ipython3",
   "version": "3.10.12"
  }
 },
 "nbformat": 4,
 "nbformat_minor": 4
}

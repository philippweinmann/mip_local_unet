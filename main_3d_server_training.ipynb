{
 "cells": [
  {
   "cell_type": "code",
   "execution_count": 1,
   "metadata": {
    "tags": []
   },
   "outputs": [],
   "source": [
    "import copy\n",
    "import torch\n",
    "import torch.nn as nn\n",
    "import numpy as np\n",
    "import random\n",
    "\n",
    "from pathlib import Path\n",
    "import training_configuration\n",
    "from data_generation.generate_3d import ImageGenerator\n",
    "from data_generation.generate_utils import get_batch\n",
    "from data_generation.config import original_image_shape, cubic_simple_dims\n",
    "\n",
    "from models.net_utils import calculate_jaccard_score, calculate_dice_score, save_model\n",
    "from models.net_utils import get_best_device, prepare_image_for_network_input, prepare_image_for_analysis\n",
    "from models.net_visualizations import three_d_visualize_model_progress, display3DImageMaskTuple\n",
    "\n",
    "from models.unet3D import UNet3D, dice_bce_loss\n",
    "from data.data_utils import pad_image, divide_3d_image_into_patches, get_padded_patches\n",
    "\n",
    "from sklearn.model_selection import train_test_split\n",
    "from server_specific.server_utils import get_patients"
   ]
  },
  {
   "cell_type": "code",
   "execution_count": 2,
   "metadata": {
    "tags": []
   },
   "outputs": [],
   "source": [
    "patches_folder = Path(\"/home/tu-philw/group/gecko/pweinmann/mip_local_unet/preprocessed_patches/\")\n",
    "def get_preprocessed_patches():\n",
    "    patch_fps = list(patches_folder.iterdir())\n",
    "\n",
    "    patch_fps = [file for file in patch_fps if \"ipynb_checkpoints\" not in str(file)]\n",
    "\n",
    "    print(\"amt of detected patch files: \", len(patch_fps))\n",
    "    random.shuffle(patch_fps)\n",
    "    \n",
    "    return patch_fps\n",
    "\n",
    "def get_image_mask_from_patch_fp(patch_fp):\n",
    "    patch = np.load(patch_fp)\n",
    "    image = patch[\"image\"]\n",
    "    mask = patch[\"mask\"]\n",
    "\n",
    "    return image, mask"
   ]
  },
  {
   "cell_type": "code",
   "execution_count": 3,
   "metadata": {
    "tags": []
   },
   "outputs": [
    {
     "name": "stdout",
     "output_type": "stream",
     "text": [
      "amt of detected patch files:  22667\n"
     ]
    }
   ],
   "source": [
    "preprocessed_patches = get_preprocessed_patches()"
   ]
  },
  {
   "cell_type": "code",
   "execution_count": 4,
   "metadata": {
    "tags": []
   },
   "outputs": [
    {
     "name": "stdout",
     "output_type": "stream",
     "text": [
      "Using cuda device. Every tensor created will be by default on cuda\n"
     ]
    }
   ],
   "source": [
    "# define which device is used for training\n",
    "device = get_best_device()\n",
    "\n",
    "if device == \"mps\":\n",
    "    # mps is not supported for 3d\n",
    "    device = \"cpu\"\n",
    "\n",
    "torch.set_default_device(device)\n",
    "print(f\"Using {device} device. Every tensor created will be by default on {device}\")"
   ]
  },
  {
   "cell_type": "code",
   "execution_count": 5,
   "metadata": {
    "tags": []
   },
   "outputs": [
    {
     "name": "stdout",
     "output_type": "stream",
     "text": [
      "----------------TRAINING-------------\n"
     ]
    }
   ],
   "source": [
    "print(\"----------------TRAINING-------------\")\n",
    "\n",
    "patch_size = training_configuration.PATCH_SIZE\n",
    "block_shape = (patch_size, patch_size, patch_size)\n",
    "dice_thresholds = np.array([0.1, 0.25, 0.4, 0.5])\n",
    "\n",
    "def train_loop(model, loss_fn, optimizer, patch_fps):\n",
    "    model.train()\n",
    "    \n",
    "    avg_train_loss = 0\n",
    "    avg_dice_scores = np.zeros(dice_thresholds.shape)\n",
    "    \n",
    "    processed_patch_counter = 0\n",
    "    \n",
    "    amt_of_patches = len(patch_fps)\n",
    "    for patch_number, patch_fp in enumerate(patch_fps):\n",
    "        print(f\"{patch_number} / {amt_of_patches}\", end=\"\\r\")\n",
    "        image_patch, mask_patch = get_image_mask_from_patch_fp(patch_fp)\n",
    "        \n",
    "        non_zero_count = np.count_nonzero(mask_patch)\n",
    "        if non_zero_count < 10000:\n",
    "            continue\n",
    "        \n",
    "        image_patch = prepare_image_for_network_input(image_patch)\n",
    "        mask_patch = prepare_image_for_network_input(mask_patch)\n",
    "\n",
    "        optimizer.zero_grad()\n",
    "\n",
    "        patch_pred = model(image_patch)\n",
    "        loss = loss_fn(patch_pred, mask_patch)\n",
    "\n",
    "        loss.backward()\n",
    "        optimizer.step()\n",
    "\n",
    "        train_loss = loss.item()\n",
    "        avg_train_loss += train_loss\n",
    "\n",
    "        # list of tuples with threshold, score\n",
    "        avg_dice_scores += calculate_dice_score(mask_patch, patch_pred, thresholds=dice_thresholds)\n",
    "        \n",
    "        processed_patch_counter += 1\n",
    "        if (processed_patch_counter) % 10 == 0:\n",
    "            avg_train_loss /= 20\n",
    "            avg_dice_scores /= 20\n",
    "            \n",
    "            train_log = f\"Patch number: {patch_number} / {amt_of_patches}, Train loss: {avg_train_loss:>8f}, Dice Scores: {zip(dice_thresholds, avg_dice_scores):>8f}\"\n",
    "            print(train_log)\n",
    "            \n",
    "            avg_train_loss = 0\n",
    "            avg_dice_scores.fill(0)"
   ]
  },
  {
   "cell_type": "code",
   "execution_count": 6,
   "metadata": {
    "tags": []
   },
   "outputs": [],
   "source": [
    "# resetting the model\n",
    "model = UNet3D(in_channels=1, num_classes=1)\n",
    "model.to(device)\n",
    "\n",
    "# running it\n",
    "loss_fn = dice_bce_loss\n",
    "optimizer = torch.optim.SGD(model.parameters(), lr=0.1)\n",
    "epochs = 2"
   ]
  },
  {
   "cell_type": "code",
   "execution_count": 7,
   "metadata": {
    "tags": []
   },
   "outputs": [
    {
     "name": "stdout",
     "output_type": "stream",
     "text": [
      "Epoch 1\n",
      "-------------------------------\n",
      "Patch number: 177 / 22667, Train loss: 1.233907, Dice Score: 0.008310\n",
      "Patch number: 391 / 22667, Train loss: 1.092804, Dice Score: 0.000000\n",
      "Patch number: 623 / 22667, Train loss: 1.045585, Dice Score: 0.000000\n",
      "Patch number: 875 / 22667, Train loss: 1.016676, Dice Score: 0.000000\n",
      "Patch number: 1153 / 22667, Train loss: 0.979855, Dice Score: 0.000000\n",
      "Patch number: 1395 / 22667, Train loss: 0.940884, Dice Score: 0.000000\n",
      "Patch number: 1734 / 22667, Train loss: 0.916708, Dice Score: 0.000000\n",
      "Patch number: 2001 / 22667, Train loss: 0.892220, Dice Score: 0.000000\n",
      "Patch number: 2345 / 22667, Train loss: 0.871407, Dice Score: 0.000000\n",
      "Patch number: 2552 / 22667, Train loss: 0.868703, Dice Score: 0.000000\n",
      "Patch number: 2782 / 22667, Train loss: 0.803619, Dice Score: 0.000000\n",
      "Patch number: 3057 / 22667, Train loss: 0.750018, Dice Score: 0.000000\n",
      "Patch number: 3364 / 22667, Train loss: 0.719616, Dice Score: 0.000000\n",
      "Patch number: 3650 / 22667, Train loss: 0.670249, Dice Score: 0.115091\n",
      "Patch number: 3896 / 22667, Train loss: 0.581726, Dice Score: 0.638236\n",
      "Patch number: 4180 / 22667, Train loss: 0.666818, Dice Score: 0.490392\n",
      "Patch number: 4449 / 22667, Train loss: 0.594922, Dice Score: 0.560788\n",
      "Patch number: 4624 / 22667, Train loss: 0.552782, Dice Score: 0.594995\n",
      "Patch number: 4901 / 22667, Train loss: 0.532340, Dice Score: 0.602769\n",
      "Patch number: 5157 / 22667, Train loss: 0.483633, Dice Score: 0.643227\n",
      "Patch number: 5352 / 22667, Train loss: 0.479933, Dice Score: 0.635858\n",
      "Patch number: 5583 / 22667, Train loss: 0.539916, Dice Score: 0.551256\n",
      "Patch number: 5863 / 22667, Train loss: 0.486456, Dice Score: 0.604222\n",
      "Patch number: 6148 / 22667, Train loss: 0.523693, Dice Score: 0.561408\n",
      "Patch number: 6364 / 22667, Train loss: 0.480335, Dice Score: 0.599854\n",
      "Patch number: 6671 / 22667, Train loss: 0.438323, Dice Score: 0.645187\n",
      "Patch number: 6945 / 22667, Train loss: 0.549137, Dice Score: 0.516908\n",
      "Patch number: 7173 / 22667, Train loss: 0.379811, Dice Score: 0.697730\n",
      "Patch number: 7393 / 22667, Train loss: 0.400467, Dice Score: 0.670133\n",
      "Patch number: 7668 / 22667, Train loss: 0.407551, Dice Score: 0.660010\n",
      "Patch number: 8029 / 22667, Train loss: 0.615599, Dice Score: 0.437695\n",
      "Patch number: 8277 / 22667, Train loss: 0.543912, Dice Score: 0.512642\n",
      "Patch number: 8586 / 22667, Train loss: 0.538099, Dice Score: 0.516888\n",
      "Patch number: 8874 / 22667, Train loss: 0.540101, Dice Score: 0.513786\n",
      "Patch number: 9089 / 22667, Train loss: 0.626012, Dice Score: 0.424224\n",
      "Patch number: 9301 / 22667, Train loss: 0.628863, Dice Score: 0.422811\n",
      "Patch number: 9484 / 22667, Train loss: 0.551556, Dice Score: 0.495762\n",
      "Patch number: 9678 / 22667, Train loss: 0.440650, Dice Score: 0.612119\n",
      "Patch number: 9944 / 22667, Train loss: 0.410049, Dice Score: 0.639138\n",
      "Patch number: 10205 / 22667, Train loss: 0.391517, Dice Score: 0.659769\n",
      "Patch number: 10652 / 22667, Train loss: 0.381435, Dice Score: 0.668146\n",
      "Patch number: 10929 / 22667, Train loss: 0.351361, Dice Score: 0.695988\n",
      "Patch number: 11096 / 22667, Train loss: 0.352861, Dice Score: 0.695414\n",
      "Patch number: 11452 / 22667, Train loss: 0.321621, Dice Score: 0.724213\n",
      "Patch number: 11717 / 22667, Train loss: 0.366953, Dice Score: 0.676652\n",
      "Patch number: 11985 / 22667, Train loss: 0.338448, Dice Score: 0.704081\n",
      "Patch number: 12310 / 22667, Train loss: 0.362507, Dice Score: 0.678563\n",
      "Patch number: 12562 / 22667, Train loss: 0.289430, Dice Score: 0.752857\n",
      "Patch number: 12823 / 22667, Train loss: 0.310228, Dice Score: 0.732392\n",
      "Patch number: 13086 / 22667, Train loss: 0.329640, Dice Score: 0.708746\n",
      "Patch number: 13410 / 22667, Train loss: 0.289877, Dice Score: 0.751283\n",
      "Patch number: 13698 / 22667, Train loss: 0.388377, Dice Score: 0.650444\n",
      "Patch number: 13870 / 22667, Train loss: 0.436400, Dice Score: 0.600826\n",
      "Patch number: 14176 / 22667, Train loss: 0.353206, Dice Score: 0.685567\n",
      "Patch number: 14452 / 22667, Train loss: 0.299545, Dice Score: 0.736892\n",
      "Patch number: 14661 / 22667, Train loss: 0.310105, Dice Score: 0.725646\n",
      "Patch number: 15074 / 22667, Train loss: 0.351138, Dice Score: 0.683666\n",
      "Patch number: 15292 / 22667, Train loss: 0.330743, Dice Score: 0.705544\n",
      "Patch number: 15517 / 22667, Train loss: 0.360683, Dice Score: 0.673521\n",
      "Patch number: 15760 / 22667, Train loss: 0.339837, Dice Score: 0.692151\n",
      "Patch number: 16023 / 22667, Train loss: 0.238987, Dice Score: 0.794675\n",
      "Patch number: 16358 / 22667, Train loss: 0.316532, Dice Score: 0.715607\n",
      "Patch number: 16554 / 22667, Train loss: 0.320216, Dice Score: 0.713935\n",
      "Patch number: 16801 / 22667, Train loss: 0.312660, Dice Score: 0.719898\n",
      "Patch number: 17183 / 22667, Train loss: 0.299846, Dice Score: 0.731509\n",
      "Patch number: 17473 / 22667, Train loss: 0.289748, Dice Score: 0.742828\n",
      "Patch number: 17741 / 22667, Train loss: 0.306515, Dice Score: 0.726349\n",
      "Patch number: 18042 / 22667, Train loss: 0.295454, Dice Score: 0.736620\n",
      "Patch number: 18306 / 22667, Train loss: 0.276240, Dice Score: 0.755953\n",
      "Patch number: 18468 / 22667, Train loss: 0.270619, Dice Score: 0.759616\n",
      "Patch number: 18815 / 22667, Train loss: 0.264355, Dice Score: 0.765456\n",
      "Patch number: 19080 / 22667, Train loss: 0.315836, Dice Score: 0.713771\n",
      "Patch number: 19265 / 22667, Train loss: 0.313633, Dice Score: 0.715727\n",
      "Patch number: 19494 / 22667, Train loss: 0.277387, Dice Score: 0.751427\n",
      "Patch number: 19641 / 22667, Train loss: 0.323232, Dice Score: 0.706332\n",
      "Patch number: 19853 / 22667, Train loss: 0.320202, Dice Score: 0.707910\n",
      "Patch number: 20094 / 22667, Train loss: 0.302194, Dice Score: 0.727014\n",
      "Patch number: 20350 / 22667, Train loss: 0.289004, Dice Score: 0.740074\n",
      "Patch number: 20612 / 22667, Train loss: 0.287022, Dice Score: 0.742114\n",
      "Patch number: 20855 / 22667, Train loss: 0.288056, Dice Score: 0.739151\n",
      "Patch number: 21126 / 22667, Train loss: 0.276805, Dice Score: 0.751070\n",
      "Patch number: 21612 / 22667, Train loss: 0.326591, Dice Score: 0.701904\n",
      "Patch number: 21839 / 22667, Train loss: 0.357191, Dice Score: 0.673381\n",
      "Patch number: 22238 / 22667, Train loss: 0.216175, Dice Score: 0.810239\n",
      "Patch number: 22659 / 22667, Train loss: 0.240891, Dice Score: 0.786125\n",
      "Epoch 2 22667\n",
      "-------------------------------\n",
      "Patch number: 177 / 22667, Train loss: 0.276028, Dice Score: 0.749467\n",
      "Patch number: 391 / 22667, Train loss: 0.271197, Dice Score: 0.755448\n",
      "Patch number: 623 / 22667, Train loss: 0.303928, Dice Score: 0.723066\n",
      "Patch number: 875 / 22667, Train loss: 0.299646, Dice Score: 0.727373\n",
      "Patch number: 1153 / 22667, Train loss: 0.266711, Dice Score: 0.759414\n",
      "Patch number: 1395 / 22667, Train loss: 0.282106, Dice Score: 0.743566\n",
      "Patch number: 1734 / 22667, Train loss: 0.271212, Dice Score: 0.754558\n",
      "Patch number: 2001 / 22667, Train loss: 0.289754, Dice Score: 0.736695\n",
      "Patch number: 2345 / 22667, Train loss: 0.256383, Dice Score: 0.768987\n",
      "Patch number: 2552 / 22667, Train loss: 0.249728, Dice Score: 0.775928\n",
      "Patch number: 2782 / 22667, Train loss: 0.273437, Dice Score: 0.751441\n",
      "Patch number: 3057 / 22667, Train loss: 0.300494, Dice Score: 0.726816\n",
      "Patch number: 3364 / 22667, Train loss: 0.272063, Dice Score: 0.753659\n",
      "Patch number: 3650 / 22667, Train loss: 0.297891, Dice Score: 0.727582\n",
      "Patch number: 3896 / 22667, Train loss: 0.244479, Dice Score: 0.781732\n",
      "Patch number: 4180 / 22667, Train loss: 0.358364, Dice Score: 0.667199\n",
      "Patch number: 4449 / 22667, Train loss: 0.251252, Dice Score: 0.774346\n",
      "Patch number: 4624 / 22667, Train loss: 0.278590, Dice Score: 0.746801\n",
      "Patch number: 4901 / 22667, Train loss: 0.253040, Dice Score: 0.771771\n",
      "Patch number: 5157 / 22667, Train loss: 0.220525, Dice Score: 0.805288\n",
      "Patch number: 5352 / 22667, Train loss: 0.256743, Dice Score: 0.768098\n",
      "Patch number: 5583 / 22667, Train loss: 0.301861, Dice Score: 0.722289\n",
      "Patch number: 5863 / 22667, Train loss: 0.232976, Dice Score: 0.790401\n",
      "Patch number: 6148 / 22667, Train loss: 0.246807, Dice Score: 0.777951\n",
      "Patch number: 6364 / 22667, Train loss: 0.283890, Dice Score: 0.740002\n",
      "Patch number: 6671 / 22667, Train loss: 0.286863, Dice Score: 0.738954\n",
      "Patch number: 6945 / 22667, Train loss: 0.325374, Dice Score: 0.700162\n",
      "Patch number: 7173 / 22667, Train loss: 0.212011, Dice Score: 0.808653\n",
      "Patch number: 7393 / 22667, Train loss: 0.237024, Dice Score: 0.786176\n",
      "Patch number: 7668 / 22667, Train loss: 0.245610, Dice Score: 0.777911\n",
      "Patch number: 8029 / 22667, Train loss: 0.296549, Dice Score: 0.726638\n",
      "Patch number: 8277 / 22667, Train loss: 0.248278, Dice Score: 0.775198\n",
      "Patch number: 8586 / 22667, Train loss: 0.256682, Dice Score: 0.765823\n",
      "Patch number: 8874 / 22667, Train loss: 0.268034, Dice Score: 0.755723\n",
      "Patch number: 9089 / 22667, Train loss: 0.255745, Dice Score: 0.767939\n",
      "Patch number: 9301 / 22667, Train loss: 0.334355, Dice Score: 0.693288\n",
      "Patch number: 9484 / 22667, Train loss: 0.266119, Dice Score: 0.756529\n",
      "Patch number: 9678 / 22667, Train loss: 0.257949, Dice Score: 0.765833\n",
      "Patch number: 9944 / 22667, Train loss: 0.235037, Dice Score: 0.786681\n",
      "Patch number: 10205 / 22667, Train loss: 0.241268, Dice Score: 0.782378\n",
      "Patch number: 10652 / 22667, Train loss: 0.244805, Dice Score: 0.778168\n",
      "Patch number: 10929 / 22667, Train loss: 0.219655, Dice Score: 0.802455\n",
      "Patch number: 11096 / 22667, Train loss: 0.233662, Dice Score: 0.789636\n",
      "Patch number: 11452 / 22667, Train loss: 0.240230, Dice Score: 0.782962\n",
      "Patch number: 11717 / 22667, Train loss: 0.283299, Dice Score: 0.740100\n",
      "Patch number: 11985 / 22667, Train loss: 0.247529, Dice Score: 0.774311\n",
      "Patch number: 12310 / 22667, Train loss: 0.250750, Dice Score: 0.771378\n",
      "Patch number: 12562 / 22667, Train loss: 0.220088, Dice Score: 0.802452\n",
      "Patch number: 12823 / 22667, Train loss: 0.225276, Dice Score: 0.798789\n",
      "Patch number: 13086 / 22667, Train loss: 0.271008, Dice Score: 0.750388\n",
      "Patch number: 13410 / 22667, Train loss: 0.247622, Dice Score: 0.775658\n",
      "Patch number: 13698 / 22667, Train loss: 0.298447, Dice Score: 0.725683\n",
      "Patch number: 13870 / 22667, Train loss: 0.302162, Dice Score: 0.719999\n",
      "Patch number: 14176 / 22667, Train loss: 0.249695, Dice Score: 0.772834\n",
      "Patch number: 14452 / 22667, Train loss: 0.230908, Dice Score: 0.791237\n",
      "Patch number: 14661 / 22667, Train loss: 0.242278, Dice Score: 0.778982\n",
      "Patch number: 15074 / 22667, Train loss: 0.253269, Dice Score: 0.767635\n",
      "Patch number: 15292 / 22667, Train loss: 0.231268, Dice Score: 0.792625\n",
      "Patch number: 15517 / 22667, Train loss: 0.271616, Dice Score: 0.750114\n",
      "Patch number: 15760 / 22667, Train loss: 0.255749, Dice Score: 0.764717\n",
      "Patch number: 16023 / 22667, Train loss: 0.187415, Dice Score: 0.833337\n",
      "Patch number: 16358 / 22667, Train loss: 0.249751, Dice Score: 0.771616\n",
      "Patch number: 16554 / 22667, Train loss: 0.242111, Dice Score: 0.779482\n",
      "Patch number: 16801 / 22667, Train loss: 0.235915, Dice Score: 0.785661\n",
      "Patch number: 17183 / 22667, Train loss: 0.228470, Dice Score: 0.792440\n",
      "Patch number: 17473 / 22667, Train loss: 0.230517, Dice Score: 0.791695\n",
      "Patch number: 17741 / 22667, Train loss: 0.277848, Dice Score: 0.745101\n",
      "Patch number: 18042 / 22667, Train loss: 0.233221, Dice Score: 0.787626\n",
      "Patch number: 18306 / 22667, Train loss: 0.203348, Dice Score: 0.818367\n",
      "Patch number: 18468 / 22667, Train loss: 0.218743, Dice Score: 0.802437\n",
      "Patch number: 18815 / 22667, Train loss: 0.222890, Dice Score: 0.797846\n",
      "Patch number: 19080 / 22667, Train loss: 0.274329, Dice Score: 0.746402\n",
      "Patch number: 19265 / 22667, Train loss: 0.270525, Dice Score: 0.751649\n",
      "Patch number: 19494 / 22667, Train loss: 0.230544, Dice Score: 0.789918\n",
      "Patch number: 19641 / 22667, Train loss: 0.255539, Dice Score: 0.766392\n",
      "Patch number: 19853 / 22667, Train loss: 0.274130, Dice Score: 0.746828\n",
      "Patch number: 20094 / 22667, Train loss: 0.215142, Dice Score: 0.805752\n",
      "Patch number: 20350 / 22667, Train loss: 0.250079, Dice Score: 0.772212\n",
      "Patch number: 20612 / 22667, Train loss: 0.253926, Dice Score: 0.768105\n",
      "Patch number: 20855 / 22667, Train loss: 0.246469, Dice Score: 0.773900\n",
      "Patch number: 21126 / 22667, Train loss: 0.239033, Dice Score: 0.781810\n",
      "Patch number: 21612 / 22667, Train loss: 0.295871, Dice Score: 0.728017\n",
      "Patch number: 21839 / 22667, Train loss: 0.316237, Dice Score: 0.708502\n",
      "Patch number: 22238 / 22667, Train loss: 0.183393, Dice Score: 0.835886\n",
      "Patch number: 22659 / 22667, Train loss: 0.214554, Dice Score: 0.805637\n",
      "Done! / 22667\n"
     ]
    }
   ],
   "source": [
    "try:\n",
    "    for t in range(epochs):\n",
    "        print(f\"Epoch {t+1}\\n-------------------------------\")\n",
    "        \n",
    "        train_loop(model, loss_fn, optimizer, preprocessed_patches)\n",
    "    print(\"Done!\")\n",
    "except:\n",
    "    print(\"Keyboard interruption.\")\n",
    "    model.eval()"
   ]
  },
  {
   "cell_type": "code",
   "execution_count": null,
   "metadata": {
    "tags": []
   },
   "outputs": [],
   "source": []
  },
  {
   "cell_type": "code",
   "execution_count": 8,
   "metadata": {
    "tags": []
   },
   "outputs": [
    {
     "name": "stdout",
     "output_type": "stream",
     "text": [
      "------INFERENCE--------\n"
     ]
    }
   ],
   "source": [
    "print(\"------INFERENCE--------\")"
   ]
  },
  {
   "cell_type": "code",
   "execution_count": 9,
   "metadata": {
    "tags": []
   },
   "outputs": [
    {
     "name": "stdout",
     "output_type": "stream",
     "text": [
      "model saved at: saved_models/3d_model20241124-214749.pth\n"
     ]
    }
   ],
   "source": [
    "save_model(model)"
   ]
  },
  {
   "cell_type": "code",
   "execution_count": null,
   "metadata": {},
   "outputs": [],
   "source": []
  }
 ],
 "metadata": {
  "kernelspec": {
   "display_name": "Exploration Tutorial",
   "language": "python",
   "name": "exploration-tutorial"
  }
 },
 "nbformat": 4,
 "nbformat_minor": 4
}

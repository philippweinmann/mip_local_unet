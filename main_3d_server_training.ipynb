{
 "cells": [
  {
   "cell_type": "code",
   "execution_count": 1,
   "metadata": {
    "tags": []
   },
   "outputs": [],
   "source": [
    "import copy\n",
    "import torch\n",
    "import torch.nn as nn\n",
    "import numpy as np\n",
    "import random\n",
    "\n",
    "from pathlib import Path\n",
    "import training_configuration\n",
    "from data_generation.generate_3d import ImageGenerator\n",
    "from data_generation.generate_utils import get_batch\n",
    "from data_generation.config import original_image_shape, cubic_simple_dims\n",
    "\n",
    "from models.net_utils import calculate_jaccard_score, calculate_dice_scores, save_model\n",
    "from models.net_utils import get_best_device, prepare_image_for_network_input, prepare_image_for_analysis\n",
    "from models.net_visualizations import three_d_visualize_model_progress, display3DImageMaskTuple\n",
    "\n",
    "from models.unet3D import UNet3D, dice_bce_loss\n",
    "from data.data_utils import pad_image, divide_3d_image_into_patches, get_padded_patches\n",
    "\n",
    "from sklearn.model_selection import train_test_split\n",
    "from server_specific.server_utils import get_patients"
   ]
  },
  {
   "cell_type": "code",
   "execution_count": 2,
   "metadata": {
    "tags": []
   },
   "outputs": [],
   "source": [
    "patches_folder = Path(\"/home/tu-philw/group/gecko/pweinmann/mip_local_unet/preprocessed_patches/\")\n",
    "def get_preprocessed_patches():\n",
    "    patch_fps = list(patches_folder.iterdir())\n",
    "\n",
    "    patch_fps = [file for file in patch_fps if \"ipynb_checkpoints\" not in str(file)]\n",
    "\n",
    "    print(\"amt of detected patch files: \", len(patch_fps))\n",
    "    random.shuffle(patch_fps)\n",
    "    \n",
    "    return patch_fps\n",
    "\n",
    "def get_image_mask_from_patch_fp(patch_fp):\n",
    "    patch = np.load(patch_fp)\n",
    "    image = patch[\"image\"]\n",
    "    mask = patch[\"mask\"]\n",
    "\n",
    "    return image, mask"
   ]
  },
  {
   "cell_type": "code",
   "execution_count": 3,
   "metadata": {
    "tags": []
   },
   "outputs": [
    {
     "name": "stdout",
     "output_type": "stream",
     "text": [
      "amt of detected patch files:  22667\n"
     ]
    }
   ],
   "source": [
    "preprocessed_patches = get_preprocessed_patches()"
   ]
  },
  {
   "cell_type": "code",
   "execution_count": 4,
   "metadata": {
    "tags": []
   },
   "outputs": [
    {
     "name": "stdout",
     "output_type": "stream",
     "text": [
      "Using cuda device. Every tensor created will be by default on cuda\n"
     ]
    }
   ],
   "source": [
    "# define which device is used for training\n",
    "device = get_best_device()\n",
    "\n",
    "if device == \"mps\":\n",
    "    # mps is not supported for 3d\n",
    "    device = \"cpu\"\n",
    "\n",
    "torch.set_default_device(device)\n",
    "print(f\"Using {device} device. Every tensor created will be by default on {device}\")"
   ]
  },
  {
   "cell_type": "code",
   "execution_count": 5,
   "metadata": {
    "tags": []
   },
   "outputs": [
    {
     "name": "stdout",
     "output_type": "stream",
     "text": [
      "----------------TRAINING-------------\n"
     ]
    }
   ],
   "source": [
    "print(\"----------------TRAINING-------------\")\n",
    "\n",
    "patch_size = training_configuration.PATCH_SIZE\n",
    "block_shape = (patch_size, patch_size, patch_size)\n",
    "dice_thresholds = np.array([0.1, 0.25, 0.4, 0.5])\n",
    "\n",
    "def train_loop(model, loss_fn, optimizer, patch_fps):\n",
    "    model.train()\n",
    "    \n",
    "    avg_train_loss = 0\n",
    "    avg_dice_scores = np.zeros(dice_thresholds.shape)\n",
    "    \n",
    "    processed_patch_counter = 0\n",
    "    \n",
    "    amt_of_patches = len(patch_fps)\n",
    "    for patch_number, patch_fp in enumerate(patch_fps):\n",
    "        print(f\"{patch_number} / {amt_of_patches}\", end=\"\\r\")\n",
    "        image_patch, mask_patch = get_image_mask_from_patch_fp(patch_fp)\n",
    "        \n",
    "        non_zero_count = np.count_nonzero(mask_patch)\n",
    "        if non_zero_count < 10000:\n",
    "            continue\n",
    "        \n",
    "        image_patch = prepare_image_for_network_input(image_patch)\n",
    "        mask_patch = prepare_image_for_network_input(mask_patch)\n",
    "\n",
    "        optimizer.zero_grad()\n",
    "\n",
    "        patch_pred = model(image_patch)\n",
    "        loss = loss_fn(patch_pred, mask_patch)\n",
    "\n",
    "        loss.backward()\n",
    "        optimizer.step()\n",
    "\n",
    "        train_loss = loss.item()\n",
    "        avg_train_loss += train_loss\n",
    "\n",
    "        # list of tuples with threshold, score\n",
    "        avg_dice_scores += calculate_dice_scores(mask_patch, patch_pred, thresholds=dice_thresholds)\n",
    "        \n",
    "        processed_patch_counter += 1\n",
    "        if (processed_patch_counter) % 20 == 0:\n",
    "            avg_train_loss /= 20\n",
    "            avg_dice_scores /= 20\n",
    "            formatted_scores = ', '.join([f'({t:.2f}, {s:.6f})' for t, s in zip(dice_thresholds, avg_dice_scores)])\n",
    "            train_log = f\"Patch number: {patch_number} / {amt_of_patches}, Train loss: {avg_train_loss:>8f}, Dice Scores: {formatted_scores}\"\n",
    "            print(train_log)\n",
    "            \n",
    "            avg_train_loss = 0\n",
    "            avg_dice_scores.fill(0)"
   ]
  },
  {
   "cell_type": "code",
   "execution_count": 6,
   "metadata": {
    "tags": []
   },
   "outputs": [],
   "source": [
    "# resetting the model\n",
    "model = UNet3D(in_channels=1, num_classes=1)\n",
    "model.to(device)\n",
    "\n",
    "# running it\n",
    "loss_fn = dice_bce_loss\n",
    "optimizer = torch.optim.SGD(model.parameters(), lr=0.1)\n",
    "epochs = 2"
   ]
  },
  {
   "cell_type": "code",
   "execution_count": null,
   "metadata": {
    "tags": []
   },
   "outputs": [
    {
     "name": "stdout",
     "output_type": "stream",
     "text": [
      "15 / 22667\r"
     ]
    }
   ],
   "source": [
    "debugging = True\n",
    "\n",
    "if debugging:\n",
    "    train_loop(model, loss_fn, optimizer, preprocessed_patches)\n",
    "else:\n",
    "    try:\n",
    "        for t in range(epochs):\n",
    "            print(f\"Epoch {t+1}\\n-------------------------------\")\n",
    "\n",
    "            train_loop(model, loss_fn, optimizer, preprocessed_patches)\n",
    "        print(\"Done!\")\n",
    "    except:\n",
    "        print(\"Keyboard interruption.\")\n",
    "        model.eval()"
   ]
  },
  {
   "cell_type": "code",
   "execution_count": null,
   "metadata": {
    "tags": []
   },
   "outputs": [],
   "source": []
  },
  {
   "cell_type": "code",
   "execution_count": null,
   "metadata": {
    "tags": []
   },
   "outputs": [],
   "source": [
    "print(\"------INFERENCE--------\")"
   ]
  },
  {
   "cell_type": "code",
   "execution_count": null,
   "metadata": {
    "tags": []
   },
   "outputs": [],
   "source": [
    "if not debugging:\n",
    "    save_model(model)"
   ]
  },
  {
   "cell_type": "code",
   "execution_count": null,
   "metadata": {},
   "outputs": [],
   "source": []
  }
 ],
 "metadata": {
  "kernelspec": {
   "display_name": "Exploration Tutorial",
   "language": "python",
   "name": "exploration-tutorial"
  },
  "language_info": {
   "codemirror_mode": {
    "name": "ipython",
    "version": 3
   },
   "file_extension": ".py",
   "mimetype": "text/x-python",
   "name": "python",
   "nbconvert_exporter": "python",
   "pygments_lexer": "ipython3",
   "version": "3.10.12"
  }
 },
 "nbformat": 4,
 "nbformat_minor": 4
}

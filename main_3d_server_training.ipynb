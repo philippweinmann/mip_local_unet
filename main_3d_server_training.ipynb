{
 "cells": [
  {
   "cell_type": "code",
   "execution_count": 16,
   "metadata": {
    "tags": []
   },
   "outputs": [],
   "source": [
    "import copy\n",
    "import torch\n",
    "import torch.nn as nn\n",
    "import numpy as np\n",
    "import random\n",
    "\n",
    "from pathlib import Path\n",
    "import training_configuration\n",
    "from data_generation.generate_3d import ImageGenerator\n",
    "from data_generation.generate_utils import get_batch\n",
    "from data_generation.config import original_image_shape, cubic_simple_dims\n",
    "\n",
    "from models.net_utils import calculate_jaccard_score, calculate_dice_scores, save_model\n",
    "from models.net_utils import get_best_device, prepare_image_for_network_input, prepare_image_for_analysis\n",
    "from models.net_visualizations import three_d_visualize_model_progress, display3DImageMaskTuple\n",
    "\n",
    "from models.unet3D import UNet3D, dice_bce_loss, DICEBCE\n",
    "from data.data_utils import pad_image, divide_3d_image_into_patches, get_padded_patches\n",
    "\n",
    "from sklearn.model_selection import train_test_split\n",
    "from server_specific.server_utils import get_patients"
   ]
  },
  {
   "cell_type": "code",
   "execution_count": 17,
   "metadata": {
    "tags": []
   },
   "outputs": [],
   "source": [
    "patches_folder = Path(\"/home/tu-philw/group/gecko/pweinmann/mip_local_unet/preprocessed_patches/\")\n",
    "def get_preprocessed_patches():\n",
    "    patch_fps = list(patches_folder.iterdir())\n",
    "\n",
    "    patch_fps = [file for file in patch_fps if \"ipynb_checkpoints\" not in str(file)]\n",
    "\n",
    "    print(\"amt of detected patch files: \", len(patch_fps))\n",
    "    random.shuffle(patch_fps)\n",
    "    \n",
    "    return patch_fps\n",
    "\n",
    "def get_image_mask_from_patch_fp(patch_fp):\n",
    "    patch = np.load(patch_fp)\n",
    "    image = patch[\"image\"]\n",
    "    mask = patch[\"mask\"].astype(np.bool_)\n",
    "\n",
    "    return image, mask"
   ]
  },
  {
   "cell_type": "code",
   "execution_count": 18,
   "metadata": {
    "tags": []
   },
   "outputs": [
    {
     "name": "stdout",
     "output_type": "stream",
     "text": [
      "amt of detected patch files:  22667\n"
     ]
    }
   ],
   "source": [
    "preprocessed_patches = get_preprocessed_patches()"
   ]
  },
  {
   "cell_type": "code",
   "execution_count": 32,
   "metadata": {
    "tags": []
   },
   "outputs": [
    {
     "name": "stdout",
     "output_type": "stream",
     "text": [
      "len idxs list: 22667\n",
      "len idxs listset: 800\n"
     ]
    }
   ],
   "source": [
    "def get_patient_idx(fp):\n",
    "    return str(fp).split('/')[-1].split(\"_\")[0]\n",
    "\n",
    "def divide_in_train_test_split(preprocessed_patches):\n",
    "    idxs = []\n",
    "    for preprocessed_path in preprocessed_patches:\n",
    "        idxs.append(str(preprocessed_path).split('/')[-1].split(\"_\")[0])\n",
    "    \n",
    "    print(f\"len idxs list: {len(idxs)}\")\n",
    "    indexes_list = list(set(idxs))\n",
    "    print(f\"len idxs listset: {len(indexes_list)}\")\n",
    "    train_idxs = indexes_list[0:740]\n",
    "    val_idxs = indexes_list[740:760]\n",
    "    test_idxs = indexes_list[740:800]\n",
    "    return train_idxs, val_idxs, test_idxs\n",
    "\n",
    "train_idxs, val_idxs, test_idxs = divide_in_train_test_split(preprocessed_patches)\n",
    "\n",
    "train_fps = [fp for fp in preprocessed_patches if get_patient_idx(fp) in train_idxs]\n",
    "test_fps = [fp for fp in preprocessed_patches if get_patient_idx(fp) in test_idxs]\n",
    "val_fps = [fp for fp in preprocessed_patches if get_patient_idx(fp) in val_idxs]\n"
   ]
  },
  {
   "cell_type": "code",
   "execution_count": null,
   "metadata": {
    "tags": []
   },
   "outputs": [],
   "source": [
    "# define which device is used for training\n",
    "device = get_best_device()\n",
    "\n",
    "if device == \"mps\":\n",
    "    # mps is not supported for 3d\n",
    "    device = \"cpu\"\n",
    "\n",
    "torch.set_default_device(device)\n",
    "print(f\"Using {device} device. Every tensor created will be by default on {device}\")"
   ]
  },
  {
   "cell_type": "code",
   "execution_count": null,
   "metadata": {},
   "outputs": [],
   "source": [
    "max_dice_threshold = 20000\n",
    "total_weight = 1.5\n",
    "min_bce_weight = 0.2\n",
    "\n",
    "def get_appropriate_dice_weight(amt_positive_voxels):\n",
    "    bce_weight = (-(total_weight - min_bce_weight)/max_dice_threshold) * amt_positive_voxels + 1.5\n",
    "    dice_weight = total_weight - bce_weight\n",
    "    \n",
    "    return dice_weight, bce_weight"
   ]
  },
  {
   "cell_type": "code",
   "execution_count": null,
   "metadata": {},
   "outputs": [],
   "source": [
    "pos_voxel_threshold = 7000\n",
    "max_lr_threshold = 0.1\n",
    "\n",
    "def calculate_learning_rate(amt_positive_voxels, epoch):\n",
    "    # make the dice loss an exponential function. 0.0001 if there are no pos voxels, 0.1 if above pos_voxel_threshold\n",
    "    lr = 10 ** -(epoch) * 0.00001 * np.exp(amt_positive_voxels * (3*np.log(10)/pos_voxel_threshold))\n",
    "    lr = min(lr, max_lr_threshold)\n",
    "    \n",
    "    # print(f\"learning rate: {lr}, amt_positive_voxels: {amt_positive_voxels}\")\n",
    "    return lr"
   ]
  },
  {
   "cell_type": "code",
   "execution_count": null,
   "metadata": {
    "tags": []
   },
   "outputs": [],
   "source": [
    "print(\"----------------TRAINING-------------\")\n",
    "\n",
    "patch_size = training_configuration.PATCH_SIZE\n",
    "block_shape = (patch_size, patch_size, patch_size)\n",
    "dice_thresholds = np.array([0.1, 0.25, 0.5])\n",
    "\n",
    "logging_frequency = 48\n",
    "val_frequency = 100\n",
    "\n",
    "def train_loop(model, loss_fn, optimizer, patch_fps, epoch):\n",
    "    model.train()\n",
    "    \n",
    "    avg_train_loss = 0\n",
    "    avg_dice_scores = np.zeros(dice_thresholds.shape)\n",
    "    \n",
    "    processed_patch_counter = 0\n",
    "    \n",
    "    combined_mask = []\n",
    "    combined_pred = []\n",
    "    \n",
    "    amt_of_patches = len(patch_fps)\n",
    "    for patch_number, patch_fp in enumerate(patch_fps):\n",
    "        print(f\"{patch_number} / {amt_of_patches}\", end=\"\\r\")\n",
    "        image_patch, mask_patch = get_image_mask_from_patch_fp(patch_fp)\n",
    "        \n",
    "        amt_positive_voxels = np.count_nonzero(mask_patch)\n",
    "        dynamic_lr = calculate_learning_rate(amt_positive_voxels, epoch)\n",
    "        \n",
    "        dynamic_loss_weights = get_appropriate_dice_weight(amt_positive_voxels)\n",
    "        \n",
    "        DICEBCE.dice_weight = dynamic_loss_weights[0]\n",
    "        DICEBCE.bce_weight = dynamic_loss_weights[1]\n",
    "        \n",
    "        # Set the learning rate in the optimizer\n",
    "        for param_group in optimizer.param_groups:\n",
    "            param_group['lr'] = dynamic_lr\n",
    "        \n",
    "        image_patch = prepare_image_for_network_input(image_patch)\n",
    "        mask_patch = prepare_image_for_network_input(mask_patch)\n",
    "\n",
    "        optimizer.zero_grad()\n",
    "\n",
    "        patch_pred = model(image_patch)\n",
    "        loss = loss_fn(patch_pred, mask_patch)\n",
    "\n",
    "        loss.backward()\n",
    "        optimizer.step()\n",
    "\n",
    "        train_loss = loss.item()\n",
    "        avg_train_loss += train_loss\n",
    "        \n",
    "        if (patch_number + 1) % logging_frequency == 0:\n",
    "            avg_train_loss /= logging_frequency\n",
    "            \n",
    "            train_log = f\"Patch number: {patch_number} / {amt_of_patches}, Train loss: {avg_train_loss:>8f}\"\n",
    "            print(train_log)\n",
    "            \n",
    "            avg_train_loss = 0\n",
    "            \n",
    "        if (patch_number + 1) % val_frequency == 0:\n",
    "            # val_loop(\n",
    "            pass"
   ]
  },
  {
   "cell_type": "code",
   "execution_count": null,
   "metadata": {
    "tags": []
   },
   "outputs": [],
   "source": [
    "# resetting the model\n",
    "model = UNet3D(in_channels=1, num_classes=1)\n",
    "model.to(device)\n",
    "\n",
    "# running it\n",
    "loss_fn = DICEBCE(1,0.5)\n",
    "\n",
    "# the lr does not matter here, it is set depending on the amt of positive voxels\n",
    "optimizer = torch.optim.SGD(model.parameters(), lr=0.1)\n",
    "\n",
    "epochs = 3"
   ]
  },
  {
   "cell_type": "code",
   "execution_count": null,
   "metadata": {
    "tags": []
   },
   "outputs": [
    {
     "name": "stdout",
     "output_type": "stream",
     "text": [
      "Patch number: 47 / 22667, Train loss: 1.286232, Dice Scores: (0.10, 0.003208), (0.25, 0.003208), (0.50, 0.004844)\n",
      "Patch number: 95 / 22667, Train loss: 1.224598, Dice Scores: (0.10, 0.001662), (0.25, 0.001677), (0.50, 0.000000)\n",
      "Patch number: 143 / 22667, Train loss: 1.170175, Dice Scores: (0.10, 0.001465), (0.25, 0.001320), (0.50, 0.000000)\n",
      "Patch number: 191 / 22667, Train loss: 1.083066, Dice Scores: (0.10, 0.001621), (0.25, 0.000366), (0.50, 0.000000)\n",
      "Patch number: 239 / 22667, Train loss: 1.036649, Dice Scores: (0.10, 0.000600), (0.25, 0.000192), (0.50, 0.000000)\n",
      "Patch number: 287 / 22667, Train loss: 1.022834, Dice Scores: (0.10, 0.001331), (0.25, 0.000542), (0.50, 0.000000)\n",
      "Patch number: 335 / 22667, Train loss: 1.011399, Dice Scores: (0.10, 0.003706), (0.25, 0.000656), (0.50, 0.000000)\n",
      "Patch number: 383 / 22667, Train loss: 1.010887, Dice Scores: (0.10, 0.005520), (0.25, 0.000386), (0.50, 0.000000)\n",
      "Patch number: 431 / 22667, Train loss: 1.003744, Dice Scores: (0.10, 0.021236), (0.25, 0.037403), (0.50, 0.000000)\n",
      "Patch number: 479 / 22667, Train loss: 1.020349, Dice Scores: (0.10, 0.008256), (0.25, 0.009405), (0.50, 0.000000)\n",
      "Patch number: 527 / 22667, Train loss: 1.015369, Dice Scores: (0.10, 0.010617), (0.25, 0.015087), (0.50, 0.000000)\n",
      "564 / 22667\r"
     ]
    }
   ],
   "source": [
    "try:\n",
    "    for epoch in range(epochs):\n",
    "        print(f\"Epoch {epoch+1}\\n-------------------------------\")\n",
    "\n",
    "        train_loop(model, loss_fn, optimizer, preprocessed_patches, epoch)\n",
    "    print(\"Done!\")\n",
    "except:\n",
    "    print(\"this better have been a keyboard interrupt\")\n",
    "    model.eval()"
   ]
  },
  {
   "cell_type": "code",
   "execution_count": null,
   "metadata": {
    "tags": []
   },
   "outputs": [],
   "source": [
    "print(\"------INFERENCE--------\")"
   ]
  },
  {
   "cell_type": "code",
   "execution_count": null,
   "metadata": {
    "tags": []
   },
   "outputs": [],
   "source": [
    "debugging = True\n",
    "\n",
    "if not debugging:\n",
    "    save_model(model)"
   ]
  },
  {
   "cell_type": "code",
   "execution_count": null,
   "metadata": {},
   "outputs": [],
   "source": []
  }
 ],
 "metadata": {
  "kernelspec": {
   "display_name": "Exploration Tutorial",
   "language": "python",
   "name": "exploration-tutorial"
  }
 },
 "nbformat": 4,
 "nbformat_minor": 4
}

{
 "cells": [
  {
   "cell_type": "code",
   "execution_count": null,
   "id": "709abd27-49ff-4449-b58e-da5585a81010",
   "metadata": {
    "tags": []
   },
   "outputs": [],
   "source": [
    "from models.inference_pipeline import CCTAPipeline\n",
    "from models.unet3D import UNet3D, dice_bce_loss\n",
    "from models.net_utils import calculate_jaccard_score, calculate_dice_scores\n",
    "import torch\n",
    "from models.net_utils import get_best_device, calculate_dice_scores, calculate_overlap\n",
    "from server_specific.server_utils import get_patients\n",
    "from data.data_utils import get_preprocessed_patches, get_all_patches_with_certain_idx, combine_preprocessed_patches\n",
    "import numpy as np\n",
    "from data_generation.generate_3d import visualize3Dimage\n",
    "import training_configuration\n",
    "from training_utils import get_val_test_indexes\n",
    "from training_utils import get_train_test_val_patches"
   ]
  },
  {
   "cell_type": "code",
   "execution_count": 2,
   "id": "92f03f8a-b717-4b72-a726-e33f40ab54a8",
   "metadata": {
    "tags": []
   },
   "outputs": [],
   "source": [
    "# trained_model_path = \"saved_models/3d_model20241120-163318.pth\"\n",
    "# trained_model_path = \"saved_models/3d_model20241124-104231.pth\"\n",
    "\n",
    "current_trained_model = \"saved_models/3d_model_128_bce_fixed_2_dez.pth\"\n",
    "block_size = 128"
   ]
  },
  {
   "cell_type": "code",
   "execution_count": 3,
   "id": "4827f2a8-0c59-4b21-9f89-b966ad49778e",
   "metadata": {
    "tags": []
   },
   "outputs": [
    {
     "name": "stdout",
     "output_type": "stream",
     "text": [
      "Using cuda device. Every tensor created will be by default on cuda\n"
     ]
    },
    {
     "data": {
      "text/plain": [
       "UNet3D(\n",
       "  (down_convolution_1): DownSample(\n",
       "    (conv): DoubleConv3D(\n",
       "      (conv_op): Sequential(\n",
       "        (0): Conv3d(1, 16, kernel_size=(3, 3, 3), stride=(1, 1, 1), padding=(1, 1, 1))\n",
       "        (1): ReLU(inplace=True)\n",
       "        (2): Conv3d(16, 16, kernel_size=(3, 3, 3), stride=(1, 1, 1), padding=(1, 1, 1))\n",
       "        (3): ReLU(inplace=True)\n",
       "      )\n",
       "    )\n",
       "    (pool): MaxPool3d(kernel_size=2, stride=2, padding=0, dilation=1, ceil_mode=False)\n",
       "  )\n",
       "  (down_convolution_2): DownSample(\n",
       "    (conv): DoubleConv3D(\n",
       "      (conv_op): Sequential(\n",
       "        (0): Conv3d(16, 32, kernel_size=(3, 3, 3), stride=(1, 1, 1), padding=(1, 1, 1))\n",
       "        (1): InstanceNorm3d(32, eps=1e-05, momentum=0.1, affine=False, track_running_stats=False)\n",
       "        (2): ReLU(inplace=True)\n",
       "        (3): Conv3d(32, 32, kernel_size=(3, 3, 3), stride=(1, 1, 1), padding=(1, 1, 1))\n",
       "        (4): InstanceNorm3d(32, eps=1e-05, momentum=0.1, affine=False, track_running_stats=False)\n",
       "        (5): ReLU(inplace=True)\n",
       "      )\n",
       "    )\n",
       "    (pool): MaxPool3d(kernel_size=2, stride=2, padding=0, dilation=1, ceil_mode=False)\n",
       "  )\n",
       "  (down_convolution_3): DownSample(\n",
       "    (conv): DoubleConv3D(\n",
       "      (conv_op): Sequential(\n",
       "        (0): Conv3d(32, 64, kernel_size=(3, 3, 3), stride=(1, 1, 1), padding=(1, 1, 1))\n",
       "        (1): InstanceNorm3d(64, eps=1e-05, momentum=0.1, affine=False, track_running_stats=False)\n",
       "        (2): ReLU(inplace=True)\n",
       "        (3): Conv3d(64, 64, kernel_size=(3, 3, 3), stride=(1, 1, 1), padding=(1, 1, 1))\n",
       "        (4): InstanceNorm3d(64, eps=1e-05, momentum=0.1, affine=False, track_running_stats=False)\n",
       "        (5): ReLU(inplace=True)\n",
       "      )\n",
       "    )\n",
       "    (pool): MaxPool3d(kernel_size=2, stride=2, padding=0, dilation=1, ceil_mode=False)\n",
       "  )\n",
       "  (down_convolution_4): DownSample(\n",
       "    (conv): DoubleConv3D(\n",
       "      (conv_op): Sequential(\n",
       "        (0): Conv3d(64, 128, kernel_size=(3, 3, 3), stride=(1, 1, 1), padding=(1, 1, 1))\n",
       "        (1): InstanceNorm3d(128, eps=1e-05, momentum=0.1, affine=False, track_running_stats=False)\n",
       "        (2): ReLU(inplace=True)\n",
       "        (3): Conv3d(128, 128, kernel_size=(3, 3, 3), stride=(1, 1, 1), padding=(1, 1, 1))\n",
       "        (4): InstanceNorm3d(128, eps=1e-05, momentum=0.1, affine=False, track_running_stats=False)\n",
       "        (5): ReLU(inplace=True)\n",
       "      )\n",
       "    )\n",
       "    (pool): MaxPool3d(kernel_size=2, stride=2, padding=0, dilation=1, ceil_mode=False)\n",
       "  )\n",
       "  (bottle_neck): DoubleConv3D(\n",
       "    (conv_op): Sequential(\n",
       "      (0): Conv3d(128, 256, kernel_size=(3, 3, 3), stride=(1, 1, 1), padding=(1, 1, 1))\n",
       "      (1): ReLU(inplace=True)\n",
       "      (2): Conv3d(256, 256, kernel_size=(3, 3, 3), stride=(1, 1, 1), padding=(1, 1, 1))\n",
       "      (3): ReLU(inplace=True)\n",
       "    )\n",
       "  )\n",
       "  (up_convolution_1): UpSample(\n",
       "    (up): ConvTranspose3d(256, 128, kernel_size=(2, 2, 2), stride=(2, 2, 2))\n",
       "    (norm): InstanceNorm3d(128, eps=1e-05, momentum=0.1, affine=False, track_running_stats=False)\n",
       "    (conv): DoubleConv3D(\n",
       "      (conv_op): Sequential(\n",
       "        (0): Conv3d(256, 128, kernel_size=(3, 3, 3), stride=(1, 1, 1), padding=(1, 1, 1))\n",
       "        (1): ReLU(inplace=True)\n",
       "        (2): Conv3d(128, 128, kernel_size=(3, 3, 3), stride=(1, 1, 1), padding=(1, 1, 1))\n",
       "        (3): ReLU(inplace=True)\n",
       "      )\n",
       "    )\n",
       "  )\n",
       "  (up_convolution_2): UpSample(\n",
       "    (up): ConvTranspose3d(128, 64, kernel_size=(2, 2, 2), stride=(2, 2, 2))\n",
       "    (norm): InstanceNorm3d(64, eps=1e-05, momentum=0.1, affine=False, track_running_stats=False)\n",
       "    (conv): DoubleConv3D(\n",
       "      (conv_op): Sequential(\n",
       "        (0): Conv3d(128, 64, kernel_size=(3, 3, 3), stride=(1, 1, 1), padding=(1, 1, 1))\n",
       "        (1): ReLU(inplace=True)\n",
       "        (2): Conv3d(64, 64, kernel_size=(3, 3, 3), stride=(1, 1, 1), padding=(1, 1, 1))\n",
       "        (3): ReLU(inplace=True)\n",
       "      )\n",
       "    )\n",
       "  )\n",
       "  (up_convolution_3): UpSample(\n",
       "    (up): ConvTranspose3d(64, 32, kernel_size=(2, 2, 2), stride=(2, 2, 2))\n",
       "    (norm): InstanceNorm3d(32, eps=1e-05, momentum=0.1, affine=False, track_running_stats=False)\n",
       "    (conv): DoubleConv3D(\n",
       "      (conv_op): Sequential(\n",
       "        (0): Conv3d(64, 32, kernel_size=(3, 3, 3), stride=(1, 1, 1), padding=(1, 1, 1))\n",
       "        (1): ReLU(inplace=True)\n",
       "        (2): Conv3d(32, 32, kernel_size=(3, 3, 3), stride=(1, 1, 1), padding=(1, 1, 1))\n",
       "        (3): ReLU(inplace=True)\n",
       "      )\n",
       "    )\n",
       "  )\n",
       "  (up_convolution_4): UpSample(\n",
       "    (up): ConvTranspose3d(32, 16, kernel_size=(2, 2, 2), stride=(2, 2, 2))\n",
       "    (norm): InstanceNorm3d(16, eps=1e-05, momentum=0.1, affine=False, track_running_stats=False)\n",
       "    (conv): DoubleConv3D(\n",
       "      (conv_op): Sequential(\n",
       "        (0): Conv3d(32, 16, kernel_size=(3, 3, 3), stride=(1, 1, 1), padding=(1, 1, 1))\n",
       "        (1): ReLU(inplace=True)\n",
       "        (2): Conv3d(16, 16, kernel_size=(3, 3, 3), stride=(1, 1, 1), padding=(1, 1, 1))\n",
       "        (3): ReLU(inplace=True)\n",
       "      )\n",
       "    )\n",
       "  )\n",
       "  (out): Conv3d(16, 1, kernel_size=(1, 1, 1), stride=(1, 1, 1))\n",
       ")"
      ]
     },
     "execution_count": 3,
     "metadata": {},
     "output_type": "execute_result"
    }
   ],
   "source": [
    "device = get_best_device()\n",
    "\n",
    "torch.set_default_device(device)\n",
    "print(f\"Using {device} device. Every tensor created will be by default on {device}\")\n",
    "\n",
    "model = UNet3D(in_channels=1, num_classes=1)\n",
    "\n",
    "model.load_state_dict(torch.load(current_trained_model, weights_only=True))\n",
    "model.to(device)\n",
    "model.eval()"
   ]
  },
  {
   "cell_type": "code",
   "execution_count": null,
   "id": "5b41fae9-9508-4ce1-a0bd-fbb929464c8c",
   "metadata": {
    "tags": []
   },
   "outputs": [
    {
     "name": "stdout",
     "output_type": "stream",
     "text": [
      "-----INFERENCE_______\n",
      "amt of detected patch files:  22667\n",
      "amt of detected_files:  1800\n",
      "amt of patients:  800\n",
      "validation patients: ['b123f9', 'a4ecdd', '90b0ce', '0f7854', '455ae2', 'aea921', '929f00', '86ab8c', '46db1c', '96061e', '01ce4b', 'bbb965', 'a20751', '718127', '5cf4e2', '82a93b', '4d0198', '72440a', 'a7f0b8', 'c4ed8e', '131b0c']\n",
      "testing patients: ['131b0c', 'abbb92', '34e2ad', '9b15fe', 'a21855', '482d96', '73475c', '62bfa2', '73daa9', '2d1007', 'aee484', '2c7d54', '3837e1', 'c22e1a', '888204', '768b84', '5480ab', '3c1528', 'aaf01d', '5e5c74', 'b7a568', '23c657', '3d34f1', '79bf08', '1c49f2', '188c1f', '48f89b', '8e4676', 'bcaf44', '43d244', '3bd625', '3b86df', '7559ca', '8d23cf', '9197e4', '28ac59', '392a52', '3055e0', '41e521', '501a4e', '6aac0c']\n"
     ]
    }
   ],
   "source": [
    "\n",
    "\n",
    "\n",
    "print(\"-----INFERENCE_______\")\n",
    "# it would be better to do this with an inference pipeline\n",
    "\n",
    "preprocessed_patches = get_preprocessed_patches(patches_folder = training_configuration.PATCHES_FOLDER)\n",
    "val_idxs, test_idxs = get_val_test_indexes()\n",
    "test_idxs_patches = get_all_patches_with_certain_idx(test_idxs, preprocessed_patches)\n",
    "\n",
    "_, val_idxs_patches, test_idxs_patches = get_train_test_val_patches(patches_folder = training_configuration.PATCHES_FOLDER)"
   ]
  },
  {
   "cell_type": "code",
   "execution_count": 5,
   "id": "6ce484e7-0f5d-47a7-8f29-9b3c7b04549e",
   "metadata": {
    "tags": []
   },
   "outputs": [],
   "source": [
    "block_size = 128"
   ]
  },
  {
   "cell_type": "code",
   "execution_count": null,
   "id": "3c7c2a67-a893-46ad-b0bc-1c53e01d1b8f",
   "metadata": {
    "tags": []
   },
   "outputs": [
    {
     "name": "stdout",
     "output_type": "stream",
     "text": [
      "(384, 384, 384)\n",
      "dice scores: [np.float64(0.3636632349730447), np.float64(0.3718563142840384)]\n",
      "overlap scores: [np.float64(0.7918495114387689), np.float64(0.788236498742028)]\n",
      "(512, 512, 384)\n",
      "dice scores: [np.float64(0.23699681122770253), np.float64(0.24486214622579922)]\n",
      "overlap scores: [np.float64(0.8645936707464991), np.float64(0.861616495754769)]\n",
      "(384, 384, 256)\n",
      "dice scores: [np.float64(0.3616464098972516), np.float64(0.37580697809371827)]\n",
      "overlap scores: [np.float64(0.8405046910384989), np.float64(0.838058071821417)]\n",
      "(384, 384, 256)\n",
      "dice scores: [np.float64(0.25113211409513253), np.float64(0.26227298023938483)]\n",
      "overlap scores: [np.float64(0.8907207366743404), np.float64(0.8887905082344608)]\n",
      "(384, 384, 256)\n",
      "dice scores: [np.float64(0.2797932534603468), np.float64(0.2936161761785323)]\n",
      "overlap scores: [np.float64(0.8489272754281348), np.float64(0.8471022642870785)]\n",
      "(384, 384, 256)\n",
      "dice scores: [np.float64(0.352305449659702), np.float64(0.358611212104029)]\n",
      "overlap scores: [np.float64(0.7338332789914139), np.float64(0.7303010542332355)]\n",
      "(384, 384, 384)\n",
      "dice scores: [np.float64(0.34737488554081736), np.float64(0.35428438151271885)]\n",
      "overlap scores: [np.float64(0.890495672995343), np.float64(0.8878183977827636)]\n",
      "(384, 384, 384)\n",
      "dice scores: [np.float64(0.49486033859153217), np.float64(0.5055506783470621)]\n",
      "overlap scores: [np.float64(0.8891498099523789), np.float64(0.8868561317663507)]\n",
      "(512, 512, 384)\n",
      "dice scores: [np.float64(0.18243546534186442), np.float64(0.1909574680910655)]\n",
      "overlap scores: [np.float64(0.7381260196386247), np.float64(0.7345399698340875)]\n",
      "(384, 384, 384)\n",
      "dice scores: [np.float64(0.3752925991555643), np.float64(0.3837490994740555)]\n",
      "overlap scores: [np.float64(0.9463261253309797), np.float64(0.9451860841423948)]\n",
      "(384, 384, 384)\n",
      "dice scores: [np.float64(0.2898248414585478), np.float64(0.2989069030768911)]\n",
      "overlap scores: [np.float64(0.9010927138507736), np.float64(0.8992576218876424)]\n",
      "(384, 384, 384)\n",
      "dice scores: [np.float64(0.2922176018444914), np.float64(0.30093164656271454)]\n",
      "overlap scores: [np.float64(0.8830149676530261), np.float64(0.8810052444206256)]\n",
      "(384, 384, 384)\n",
      "dice scores: [np.float64(0.40785463939024963), np.float64(0.41593623852737427)]\n",
      "overlap scores: [np.float64(0.8579272089205864), np.float64(0.8551536763457294)]\n",
      "(384, 384, 384)\n",
      "dice scores: [np.float64(0.18354326941648763), np.float64(0.19139961824361024)]\n",
      "overlap scores: [np.float64(0.9191940236316557), np.float64(0.9177058841036936)]\n",
      "(384, 384, 256)\n",
      "dice scores: [np.float64(0.31099064005386523), np.float64(0.322253541420891)]\n",
      "overlap scores: [np.float64(0.8794332036740431), np.float64(0.8772595038080606)]\n",
      "(384, 384, 256)\n",
      "dice scores: [np.float64(0.30043273999629394), np.float64(0.3113175484309505)]\n",
      "overlap scores: [np.float64(0.8827184217268768), np.float64(0.8800922367409685)]\n",
      "(384, 384, 384)\n"
     ]
    }
   ],
   "source": [
    "predictions = []\n",
    "for test_idx_patches in test_idxs_patches:\n",
    "    reconstructed_mask, reconstructed_prediction = combine_preprocessed_patches(test_idx_patches, model)\n",
    "    \n",
    "    dice_scores = calculate_dice_scores(reconstructed_mask, reconstructed_prediction, thresholds = [0.25, 0.5])\n",
    "    overlap_scores = calculate_overlap(reconstructed_mask, reconstructed_prediction, thresholds = [0.25, 0.5])\n",
    "    \n",
    "    print(f\"dice scores: {dice_scores}\")\n",
    "    print(f\"overlap scores: {overlap_scores}\")\n",
    "    \n",
    "    # visualize3Dimage(reconstructed_mask)\n",
    "    # visualize3Dimage(reconstructed_prediction)\n",
    "    "
   ]
  }
 ],
 "metadata": {
  "kernelspec": {
   "display_name": "Exploration Tutorial",
   "language": "python",
   "name": "exploration-tutorial"
  },
  "language_info": {
   "codemirror_mode": {
    "name": "ipython",
    "version": 3
   },
   "file_extension": ".py",
   "mimetype": "text/x-python",
   "name": "python",
   "nbconvert_exporter": "python",
   "pygments_lexer": "ipython3",
   "version": "3.10.12"
  }
 },
 "nbformat": 4,
 "nbformat_minor": 5
}
